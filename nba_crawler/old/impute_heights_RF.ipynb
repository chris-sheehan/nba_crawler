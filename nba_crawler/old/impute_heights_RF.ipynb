{
 "cells": [
  {
   "cell_type": "code",
   "execution_count": 147,
   "metadata": {
    "collapsed": true
   },
   "outputs": [],
   "source": [
    "import numpy as np\n",
    "import pandas as pd\n",
    "import matplotlib.pyplot as plt\n",
    "%matplotlib inline\n",
    "\n",
    "from sklearn.cross_validation import train_test_split as tts\n",
    "from itertools import combinations\n",
    "\n",
    "from sklearn.ensemble import RandomForestRegressor as RFR\n",
    "from sklearn.pipeline import make_pipeline\n",
    "from sklearn.preprocessing import PolynomialFeatures\n",
    "from sklearn.linear_model import Ridge\n",
    "from sklearn.linear_model import Lasso\n",
    "from sklearn.linear_model import ElasticNet\n",
    "from sklearn.metrics import mean_squared_error, mean_absolute_error"
   ]
  },
  {
   "cell_type": "code",
   "execution_count": 13,
   "metadata": {
    "collapsed": true
   },
   "outputs": [],
   "source": [
    "dfRosters = pd.read_csv('rosters_cleaned.csv')\n",
    "dfRosters.dropna(how = 'any', inplace = True)"
   ]
  },
  {
   "cell_type": "code",
   "execution_count": 18,
   "metadata": {
    "collapsed": false
   },
   "outputs": [],
   "source": [
    "class_mapping = {\n",
    "    'SR' : 4,\n",
    "    'JR' : 3,\n",
    "    'SO' : 2,\n",
    "    'FR' : 1\n",
    "}\n",
    "dfRosters['class_id'] = dfRosters['class'].apply(lambda c: class_mapping[c])\n",
    "# dfRosters = dfRosters.join(pd.get_dummies(dfRosters.pos_primary))\n",
    "dfRosters['conf_clean'] = dfRosters.conference.apply(lambda c: c.split(' (')[0])\n",
    "dfRosters = dfRosters.join(pd.get_dummies(dfRosters.conf_clean))"
   ]
  },
  {
   "cell_type": "code",
   "execution_count": 168,
   "metadata": {
    "collapsed": false
   },
   "outputs": [],
   "source": [
    "dfRosters.ht = dfRosters.ht.map(int)"
   ]
  },
  {
   "cell_type": "code",
   "execution_count": 179,
   "metadata": {
    "collapsed": false
   },
   "outputs": [],
   "source": [
    "conferences = {c : ii for ii, c in enumerate(sorted(dfRosters.conf_clean.unique()))}\n",
    "dfRosters['conference_id'] = dfRosters.conf_clean.apply(lambda c: conferences[c])"
   ]
  },
  {
   "cell_type": "code",
   "execution_count": 189,
   "metadata": {
    "collapsed": false
   },
   "outputs": [],
   "source": [
    "dfRosters['pos_id'], pos_key = pd.factorize(dfRosters.pos_primary)"
   ]
  },
  {
   "cell_type": "code",
   "execution_count": 191,
   "metadata": {
    "collapsed": true
   },
   "outputs": [],
   "source": [
    "Xcol = ['year', 'class_id', 'multipos', 'conference_id', 'pos_id']\n",
    "ycol = 'ht'"
   ]
  },
  {
   "cell_type": "code",
   "execution_count": 192,
   "metadata": {
    "collapsed": true
   },
   "outputs": [],
   "source": [
    "Xtrain, Xtest, ytrain, ytest = tts(dfRosters[Xcol], dfRosters[ycol])"
   ]
  },
  {
   "cell_type": "markdown",
   "metadata": {},
   "source": [
    "### Random Forest Regressor"
   ]
  },
  {
   "cell_type": "code",
   "execution_count": 133,
   "metadata": {
    "collapsed": false
   },
   "outputs": [],
   "source": [
    "def test_RF_params(Xtrain, Xtest, ytrain, ytest,\n",
    "                   n_estimators = range(50, 151, 50),\n",
    "                   max_features = 10,\n",
    "                   max_depth = range(4, 11, 2),\n",
    "                   min_samples_split = range(2, 21, 2),\n",
    "                   min_samples_leaf = range(3, 10, 3)\n",
    "                   ):\n",
    "    \n",
    "    params = []\n",
    "    for n in n_estimators:\n",
    "        for max_d in max_depth:\n",
    "            for min_split in min_samples_split:\n",
    "                for min_leaf in min_samples_leaf:\n",
    "                    param = {'n_estimators' : n,\n",
    "                             'max_features' : max_features,\n",
    "                             'max_depth' : max_d,\n",
    "                             'min_samples_split' : min_split,\n",
    "                             'min_samples_leaf' : min_leaf,\n",
    "                             'n_jobs' : -1\n",
    "                             }\n",
    "                    params.append(param)\n",
    "    \n",
    "    results = {'mse_test' : 100000000000}\n",
    "    for p in params:\n",
    "        print 'Trying: ', p\n",
    "        rf_reg = RFR(**p)\n",
    "        rf_reg.fit(Xtrain, ytrain)\n",
    "        \n",
    "        score_train = rf_reg.score(Xtrain, ytrain)\n",
    "        score_test = rf_reg.score(Xtest, ytest)\n",
    "        ypred_train = rf_reg.predict(Xtrain)\n",
    "        ypred_test = rf_reg.predict(Xtest)\n",
    "        mse_train = mean_squared_error(ytrain, ypred_train)\n",
    "        mse_test = mean_squared_error(ytest, ypred_test)\n",
    "        \n",
    "        if mse_test < results['mse_test']:\n",
    "            results = {\n",
    "                    'params' : p,\n",
    "                    'score_train' : score_train,\n",
    "                    'score_test'  : score_test,\n",
    "                    'ypred_train' : ypred_train,\n",
    "                    'ypred_test'  : ypred_test,\n",
    "                    'mse_train'   : mse_train,\n",
    "                    'mse_test'    : mse_test,\n",
    "                      }\n",
    "    return results"
   ]
  },
  {
   "cell_type": "code",
   "execution_count": 130,
   "metadata": {
    "collapsed": true
   },
   "outputs": [
    {
     "name": "stdout",
     "output_type": "stream",
     "text": [
      "Trying:  {'n_jobs': -1, 'min_samples_leaf': 3, 'n_estimators': 50, 'min_samples_split': 2, 'max_features': 10, 'max_depth': 4}\n",
      "Trying:  {'n_jobs': -1, 'min_samples_leaf': 6, 'n_estimators': 50, 'min_samples_split': 2, 'max_features': 10, 'max_depth': 4}\n",
      "Trying:  {'n_jobs': -1, 'min_samples_leaf': 9, 'n_estimators': 50, 'min_samples_split': 2, 'max_features': 10, 'max_depth': 4}\n",
      "Trying:  {'n_jobs': -1, 'min_samples_leaf': 3, 'n_estimators': 50, 'min_samples_split': 4, 'max_features': 10, 'max_depth': 4}\n",
      "Trying:  {'n_jobs': -1, 'min_samples_leaf': 6, 'n_estimators': 50, 'min_samples_split': 4, 'max_features': 10, 'max_depth': 4}\n",
      "Trying:  {'n_jobs': -1, 'min_samples_leaf': 9, 'n_estimators': 50, 'min_samples_split': 4, 'max_features': 10, 'max_depth': 4}\n",
      "Trying:  {'n_jobs': -1, 'min_samples_leaf': 3, 'n_estimators': 50, 'min_samples_split': 6, 'max_features': 10, 'max_depth': 4}\n",
      "Trying:  {'n_jobs': -1, 'min_samples_leaf': 6, 'n_estimators': 50, 'min_samples_split': 6, 'max_features': 10, 'max_depth': 4}\n",
      "Trying:  {'n_jobs': -1, 'min_samples_leaf': 9, 'n_estimators': 50, 'min_samples_split': 6, 'max_features': 10, 'max_depth': 4}\n",
      "Trying:  {'n_jobs': -1, 'min_samples_leaf': 3, 'n_estimators': 50, 'min_samples_split': 8, 'max_features': 10, 'max_depth': 4}\n",
      "Trying:  {'n_jobs': -1, 'min_samples_leaf': 6, 'n_estimators': 50, 'min_samples_split': 8, 'max_features': 10, 'max_depth': 4}\n",
      "Trying:  {'n_jobs': -1, 'min_samples_leaf': 9, 'n_estimators': 50, 'min_samples_split': 8, 'max_features': 10, 'max_depth': 4}\n",
      "Trying:  {'n_jobs': -1, 'min_samples_leaf': 3, 'n_estimators': 50, 'min_samples_split': 10, 'max_features': 10, 'max_depth': 4}\n",
      "Trying:  {'n_jobs': -1, 'min_samples_leaf': 6, 'n_estimators': 50, 'min_samples_split': 10, 'max_features': 10, 'max_depth': 4}\n",
      "Trying:  {'n_jobs': -1, 'min_samples_leaf': 9, 'n_estimators': 50, 'min_samples_split': 10, 'max_features': 10, 'max_depth': 4}\n",
      "Trying:  {'n_jobs': -1, 'min_samples_leaf': 3, 'n_estimators': 50, 'min_samples_split': 12, 'max_features': 10, 'max_depth': 4}\n",
      "Trying:  {'n_jobs': -1, 'min_samples_leaf': 6, 'n_estimators': 50, 'min_samples_split': 12, 'max_features': 10, 'max_depth': 4}\n",
      "Trying:  {'n_jobs': -1, 'min_samples_leaf': 9, 'n_estimators': 50, 'min_samples_split': 12, 'max_features': 10, 'max_depth': 4}\n",
      "Trying:  {'n_jobs': -1, 'min_samples_leaf': 3, 'n_estimators': 50, 'min_samples_split': 14, 'max_features': 10, 'max_depth': 4}\n",
      "Trying:  {'n_jobs': -1, 'min_samples_leaf': 6, 'n_estimators': 50, 'min_samples_split': 14, 'max_features': 10, 'max_depth': 4}\n",
      "Trying:  {'n_jobs': -1, 'min_samples_leaf': 9, 'n_estimators': 50, 'min_samples_split': 14, 'max_features': 10, 'max_depth': 4}\n",
      "Trying:  {'n_jobs': -1, 'min_samples_leaf': 3, 'n_estimators': 50, 'min_samples_split': 16, 'max_features': 10, 'max_depth': 4}\n",
      "Trying:  {'n_jobs': -1, 'min_samples_leaf': 6, 'n_estimators': 50, 'min_samples_split': 16, 'max_features': 10, 'max_depth': 4}\n",
      "Trying:  {'n_jobs': -1, 'min_samples_leaf': 9, 'n_estimators': 50, 'min_samples_split': 16, 'max_features': 10, 'max_depth': 4}\n",
      "Trying:  {'n_jobs': -1, 'min_samples_leaf': 3, 'n_estimators': 50, 'min_samples_split': 18, 'max_features': 10, 'max_depth': 4}\n",
      "Trying:  {'n_jobs': -1, 'min_samples_leaf': 6, 'n_estimators': 50, 'min_samples_split': 18, 'max_features': 10, 'max_depth': 4}\n",
      "Trying:  {'n_jobs': -1, 'min_samples_leaf': 9, 'n_estimators': 50, 'min_samples_split': 18, 'max_features': 10, 'max_depth': 4}\n",
      "Trying:  {'n_jobs': -1, 'min_samples_leaf': 3, 'n_estimators': 50, 'min_samples_split': 20, 'max_features': 10, 'max_depth': 4}\n",
      "Trying:  {'n_jobs': -1, 'min_samples_leaf': 6, 'n_estimators': 50, 'min_samples_split': 20, 'max_features': 10, 'max_depth': 4}\n",
      "Trying:  {'n_jobs': -1, 'min_samples_leaf': 9, 'n_estimators': 50, 'min_samples_split': 20, 'max_features': 10, 'max_depth': 4}\n",
      "Trying:  {'n_jobs': -1, 'min_samples_leaf': 3, 'n_estimators': 50, 'min_samples_split': 2, 'max_features': 10, 'max_depth': 6}\n",
      "Trying:  {'n_jobs': -1, 'min_samples_leaf': 6, 'n_estimators': 50, 'min_samples_split': 2, 'max_features': 10, 'max_depth': 6}\n",
      "Trying:  {'n_jobs': -1, 'min_samples_leaf': 9, 'n_estimators': 50, 'min_samples_split': 2, 'max_features': 10, 'max_depth': 6}\n",
      "Trying:  {'n_jobs': -1, 'min_samples_leaf': 3, 'n_estimators': 50, 'min_samples_split': 4, 'max_features': 10, 'max_depth': 6}\n",
      "Trying:  {'n_jobs': -1, 'min_samples_leaf': 6, 'n_estimators': 50, 'min_samples_split': 4, 'max_features': 10, 'max_depth': 6}\n",
      "Trying:  {'n_jobs': -1, 'min_samples_leaf': 9, 'n_estimators': 50, 'min_samples_split': 4, 'max_features': 10, 'max_depth': 6}\n",
      "Trying:  {'n_jobs': -1, 'min_samples_leaf': 3, 'n_estimators': 50, 'min_samples_split': 6, 'max_features': 10, 'max_depth': 6}\n",
      "Trying:  {'n_jobs': -1, 'min_samples_leaf': 6, 'n_estimators': 50, 'min_samples_split': 6, 'max_features': 10, 'max_depth': 6}\n",
      "Trying:  {'n_jobs': -1, 'min_samples_leaf': 9, 'n_estimators': 50, 'min_samples_split': 6, 'max_features': 10, 'max_depth': 6}\n",
      "Trying:  {'n_jobs': -1, 'min_samples_leaf': 3, 'n_estimators': 50, 'min_samples_split': 8, 'max_features': 10, 'max_depth': 6}\n",
      "Trying:  {'n_jobs': -1, 'min_samples_leaf': 6, 'n_estimators': 50, 'min_samples_split': 8, 'max_features': 10, 'max_depth': 6}\n",
      "Trying:  {'n_jobs': -1, 'min_samples_leaf': 9, 'n_estimators': 50, 'min_samples_split': 8, 'max_features': 10, 'max_depth': 6}\n",
      "Trying:  {'n_jobs': -1, 'min_samples_leaf': 3, 'n_estimators': 50, 'min_samples_split': 10, 'max_features': 10, 'max_depth': 6}\n",
      "Trying:  {'n_jobs': -1, 'min_samples_leaf': 6, 'n_estimators': 50, 'min_samples_split': 10, 'max_features': 10, 'max_depth': 6}\n",
      "Trying:  {'n_jobs': -1, 'min_samples_leaf': 9, 'n_estimators': 50, 'min_samples_split': 10, 'max_features': 10, 'max_depth': 6}\n",
      "Trying:  {'n_jobs': -1, 'min_samples_leaf': 3, 'n_estimators': 50, 'min_samples_split': 12, 'max_features': 10, 'max_depth': 6}\n",
      "Trying:  {'n_jobs': -1, 'min_samples_leaf': 6, 'n_estimators': 50, 'min_samples_split': 12, 'max_features': 10, 'max_depth': 6}\n",
      "Trying:  {'n_jobs': -1, 'min_samples_leaf': 9, 'n_estimators': 50, 'min_samples_split': 12, 'max_features': 10, 'max_depth': 6}\n",
      "Trying:  {'n_jobs': -1, 'min_samples_leaf': 3, 'n_estimators': 50, 'min_samples_split': 14, 'max_features': 10, 'max_depth': 6}\n",
      "Trying:  {'n_jobs': -1, 'min_samples_leaf': 6, 'n_estimators': 50, 'min_samples_split': 14, 'max_features': 10, 'max_depth': 6}\n",
      "Trying:  {'n_jobs': -1, 'min_samples_leaf': 9, 'n_estimators': 50, 'min_samples_split': 14, 'max_features': 10, 'max_depth': 6}\n",
      "Trying:  {'n_jobs': -1, 'min_samples_leaf': 3, 'n_estimators': 50, 'min_samples_split': 16, 'max_features': 10, 'max_depth': 6}\n",
      "Trying:  {'n_jobs': -1, 'min_samples_leaf': 6, 'n_estimators': 50, 'min_samples_split': 16, 'max_features': 10, 'max_depth': 6}\n",
      "Trying:  {'n_jobs': -1, 'min_samples_leaf': 9, 'n_estimators': 50, 'min_samples_split': 16, 'max_features': 10, 'max_depth': 6}\n",
      "Trying:  {'n_jobs': -1, 'min_samples_leaf': 3, 'n_estimators': 50, 'min_samples_split': 18, 'max_features': 10, 'max_depth': 6}\n",
      "Trying:  {'n_jobs': -1, 'min_samples_leaf': 6, 'n_estimators': 50, 'min_samples_split': 18, 'max_features': 10, 'max_depth': 6}\n",
      "Trying:  {'n_jobs': -1, 'min_samples_leaf': 9, 'n_estimators': 50, 'min_samples_split': 18, 'max_features': 10, 'max_depth': 6}\n",
      "Trying:  {'n_jobs': -1, 'min_samples_leaf': 3, 'n_estimators': 50, 'min_samples_split': 20, 'max_features': 10, 'max_depth': 6}\n",
      "Trying:  {'n_jobs': -1, 'min_samples_leaf': 6, 'n_estimators': 50, 'min_samples_split': 20, 'max_features': 10, 'max_depth': 6}\n",
      "Trying:  {'n_jobs': -1, 'min_samples_leaf': 9, 'n_estimators': 50, 'min_samples_split': 20, 'max_features': 10, 'max_depth': 6}\n",
      "Trying:  {'n_jobs': -1, 'min_samples_leaf': 3, 'n_estimators': 50, 'min_samples_split': 2, 'max_features': 10, 'max_depth': 8}\n",
      "Trying:  {'n_jobs': -1, 'min_samples_leaf': 6, 'n_estimators': 50, 'min_samples_split': 2, 'max_features': 10, 'max_depth': 8}\n",
      "Trying:  {'n_jobs': -1, 'min_samples_leaf': 9, 'n_estimators': 50, 'min_samples_split': 2, 'max_features': 10, 'max_depth': 8}\n",
      "Trying:  {'n_jobs': -1, 'min_samples_leaf': 3, 'n_estimators': 50, 'min_samples_split': 4, 'max_features': 10, 'max_depth': 8}\n",
      "Trying:  {'n_jobs': -1, 'min_samples_leaf': 6, 'n_estimators': 50, 'min_samples_split': 4, 'max_features': 10, 'max_depth': 8}\n",
      "Trying:  {'n_jobs': -1, 'min_samples_leaf': 9, 'n_estimators': 50, 'min_samples_split': 4, 'max_features': 10, 'max_depth': 8}\n",
      "Trying:  {'n_jobs': -1, 'min_samples_leaf': 3, 'n_estimators': 50, 'min_samples_split': 6, 'max_features': 10, 'max_depth': 8}\n",
      "Trying:  {'n_jobs': -1, 'min_samples_leaf': 6, 'n_estimators': 50, 'min_samples_split': 6, 'max_features': 10, 'max_depth': 8}\n",
      "Trying:  {'n_jobs': -1, 'min_samples_leaf': 9, 'n_estimators': 50, 'min_samples_split': 6, 'max_features': 10, 'max_depth': 8}\n",
      "Trying:  {'n_jobs': -1, 'min_samples_leaf': 3, 'n_estimators': 50, 'min_samples_split': 8, 'max_features': 10, 'max_depth': 8}\n",
      "Trying:  {'n_jobs': -1, 'min_samples_leaf': 6, 'n_estimators': 50, 'min_samples_split': 8, 'max_features': 10, 'max_depth': 8}\n",
      "Trying:  {'n_jobs': -1, 'min_samples_leaf': 9, 'n_estimators': 50, 'min_samples_split': 8, 'max_features': 10, 'max_depth': 8}\n",
      "Trying:  {'n_jobs': -1, 'min_samples_leaf': 3, 'n_estimators': 50, 'min_samples_split': 10, 'max_features': 10, 'max_depth': 8}\n",
      "Trying:  {'n_jobs': -1, 'min_samples_leaf': 6, 'n_estimators': 50, 'min_samples_split': 10, 'max_features': 10, 'max_depth': 8}\n",
      "Trying:  {'n_jobs': -1, 'min_samples_leaf': 9, 'n_estimators': 50, 'min_samples_split': 10, 'max_features': 10, 'max_depth': 8}\n",
      "Trying:  {'n_jobs': -1, 'min_samples_leaf': 3, 'n_estimators': 50, 'min_samples_split': 12, 'max_features': 10, 'max_depth': 8}\n",
      "Trying:  {'n_jobs': -1, 'min_samples_leaf': 6, 'n_estimators': 50, 'min_samples_split': 12, 'max_features': 10, 'max_depth': 8}\n",
      "Trying:  {'n_jobs': -1, 'min_samples_leaf': 9, 'n_estimators': 50, 'min_samples_split': 12, 'max_features': 10, 'max_depth': 8}\n",
      "Trying:  {'n_jobs': -1, 'min_samples_leaf': 3, 'n_estimators': 50, 'min_samples_split': 14, 'max_features': 10, 'max_depth': 8}\n",
      "Trying:  {'n_jobs': -1, 'min_samples_leaf': 6, 'n_estimators': 50, 'min_samples_split': 14, 'max_features': 10, 'max_depth': 8}\n",
      "Trying:  {'n_jobs': -1, 'min_samples_leaf': 9, 'n_estimators': 50, 'min_samples_split': 14, 'max_features': 10, 'max_depth': 8}\n",
      "Trying:  {'n_jobs': -1, 'min_samples_leaf': 3, 'n_estimators': 50, 'min_samples_split': 16, 'max_features': 10, 'max_depth': 8}\n",
      "Trying:  {'n_jobs': -1, 'min_samples_leaf': 6, 'n_estimators': 50, 'min_samples_split': 16, 'max_features': 10, 'max_depth': 8}\n",
      "Trying:  {'n_jobs': -1, 'min_samples_leaf': 9, 'n_estimators': 50, 'min_samples_split': 16, 'max_features': 10, 'max_depth': 8}\n",
      "Trying:  {'n_jobs': -1, 'min_samples_leaf': 3, 'n_estimators': 50, 'min_samples_split': 18, 'max_features': 10, 'max_depth': 8}\n",
      "Trying:  {'n_jobs': -1, 'min_samples_leaf': 6, 'n_estimators': 50, 'min_samples_split': 18, 'max_features': 10, 'max_depth': 8}\n",
      "Trying:  {'n_jobs': -1, 'min_samples_leaf': 9, 'n_estimators': 50, 'min_samples_split': 18, 'max_features': 10, 'max_depth': 8}\n",
      "Trying:  {'n_jobs': -1, 'min_samples_leaf': 3, 'n_estimators': 50, 'min_samples_split': 20, 'max_features': 10, 'max_depth': 8}\n",
      "Trying:  {'n_jobs': -1, 'min_samples_leaf': 6, 'n_estimators': 50, 'min_samples_split': 20, 'max_features': 10, 'max_depth': 8}\n",
      "Trying:  {'n_jobs': -1, 'min_samples_leaf': 9, 'n_estimators': 50, 'min_samples_split': 20, 'max_features': 10, 'max_depth': 8}\n",
      "Trying:  {'n_jobs': -1, 'min_samples_leaf': 3, 'n_estimators': 50, 'min_samples_split': 2, 'max_features': 10, 'max_depth': 10}\n",
      "Trying:  {'n_jobs': -1, 'min_samples_leaf': 6, 'n_estimators': 50, 'min_samples_split': 2, 'max_features': 10, 'max_depth': 10}\n",
      "Trying:  {'n_jobs': -1, 'min_samples_leaf': 9, 'n_estimators': 50, 'min_samples_split': 2, 'max_features': 10, 'max_depth': 10}\n",
      "Trying:  {'n_jobs': -1, 'min_samples_leaf': 3, 'n_estimators': 50, 'min_samples_split': 4, 'max_features': 10, 'max_depth': 10}\n",
      "Trying:  {'n_jobs': -1, 'min_samples_leaf': 6, 'n_estimators': 50, 'min_samples_split': 4, 'max_features': 10, 'max_depth': 10}\n",
      "Trying:  {'n_jobs': -1, 'min_samples_leaf': 9, 'n_estimators': 50, 'min_samples_split': 4, 'max_features': 10, 'max_depth': 10}\n",
      "Trying:  {'n_jobs': -1, 'min_samples_leaf': 3, 'n_estimators': 50, 'min_samples_split': 6, 'max_features': 10, 'max_depth': 10}\n",
      "Trying:  {'n_jobs': -1, 'min_samples_leaf': 6, 'n_estimators': 50, 'min_samples_split': 6, 'max_features': 10, 'max_depth': 10}\n",
      "Trying:  {'n_jobs': -1, 'min_samples_leaf': 9, 'n_estimators': 50, 'min_samples_split': 6, 'max_features': 10, 'max_depth': 10}\n",
      "Trying:  {'n_jobs': -1, 'min_samples_leaf': 3, 'n_estimators': 50, 'min_samples_split': 8, 'max_features': 10, 'max_depth': 10}\n",
      "Trying:  {'n_jobs': -1, 'min_samples_leaf': 6, 'n_estimators': 50, 'min_samples_split': 8, 'max_features': 10, 'max_depth': 10}\n",
      "Trying:  {'n_jobs': -1, 'min_samples_leaf': 9, 'n_estimators': 50, 'min_samples_split': 8, 'max_features': 10, 'max_depth': 10}\n",
      "Trying:  {'n_jobs': -1, 'min_samples_leaf': 3, 'n_estimators': 50, 'min_samples_split': 10, 'max_features': 10, 'max_depth': 10}\n",
      "Trying:  {'n_jobs': -1, 'min_samples_leaf': 6, 'n_estimators': 50, 'min_samples_split': 10, 'max_features': 10, 'max_depth': 10}\n",
      "Trying:  {'n_jobs': -1, 'min_samples_leaf': 9, 'n_estimators': 50, 'min_samples_split': 10, 'max_features': 10, 'max_depth': 10}\n",
      "Trying:  {'n_jobs': -1, 'min_samples_leaf': 3, 'n_estimators': 50, 'min_samples_split': 12, 'max_features': 10, 'max_depth': 10}\n",
      "Trying:  {'n_jobs': -1, 'min_samples_leaf': 6, 'n_estimators': 50, 'min_samples_split': 12, 'max_features': 10, 'max_depth': 10}\n",
      "Trying:  {'n_jobs': -1, 'min_samples_leaf': 9, 'n_estimators': 50, 'min_samples_split': 12, 'max_features': 10, 'max_depth': 10}\n",
      "Trying:  {'n_jobs': -1, 'min_samples_leaf': 3, 'n_estimators': 50, 'min_samples_split': 14, 'max_features': 10, 'max_depth': 10}\n",
      "Trying:  {'n_jobs': -1, 'min_samples_leaf': 6, 'n_estimators': 50, 'min_samples_split': 14, 'max_features': 10, 'max_depth': 10}\n",
      "Trying:  {'n_jobs': -1, 'min_samples_leaf': 9, 'n_estimators': 50, 'min_samples_split': 14, 'max_features': 10, 'max_depth': 10}\n",
      "Trying:  {'n_jobs': -1, 'min_samples_leaf': 3, 'n_estimators': 50, 'min_samples_split': 16, 'max_features': 10, 'max_depth': 10}\n",
      "Trying:  {'n_jobs': -1, 'min_samples_leaf': 6, 'n_estimators': 50, 'min_samples_split': 16, 'max_features': 10, 'max_depth': 10}\n",
      "Trying:  {'n_jobs': -1, 'min_samples_leaf': 9, 'n_estimators': 50, 'min_samples_split': 16, 'max_features': 10, 'max_depth': 10}\n",
      "Trying:  {'n_jobs': -1, 'min_samples_leaf': 3, 'n_estimators': 50, 'min_samples_split': 18, 'max_features': 10, 'max_depth': 10}\n",
      "Trying:  {'n_jobs': -1, 'min_samples_leaf': 6, 'n_estimators': 50, 'min_samples_split': 18, 'max_features': 10, 'max_depth': 10}\n",
      "Trying:  {'n_jobs': -1, 'min_samples_leaf': 9, 'n_estimators': 50, 'min_samples_split': 18, 'max_features': 10, 'max_depth': 10}\n",
      "Trying:  {'n_jobs': -1, 'min_samples_leaf': 3, 'n_estimators': 50, 'min_samples_split': 20, 'max_features': 10, 'max_depth': 10}\n",
      "Trying:  {'n_jobs': -1, 'min_samples_leaf': 6, 'n_estimators': 50, 'min_samples_split': 20, 'max_features': 10, 'max_depth': 10}\n",
      "Trying:  {'n_jobs': -1, 'min_samples_leaf': 9, 'n_estimators': 50, 'min_samples_split': 20, 'max_features': 10, 'max_depth': 10}\n",
      "Trying:  {'n_jobs': -1, 'min_samples_leaf': 3, 'n_estimators': 100, 'min_samples_split': 2, 'max_features': 10, 'max_depth': 4}\n",
      "Trying:  {'n_jobs': -1, 'min_samples_leaf': 6, 'n_estimators': 100, 'min_samples_split': 2, 'max_features': 10, 'max_depth': 4}\n",
      "Trying:  {'n_jobs': -1, 'min_samples_leaf': 9, 'n_estimators': 100, 'min_samples_split': 2, 'max_features': 10, 'max_depth': 4}\n",
      "Trying:  {'n_jobs': -1, 'min_samples_leaf': 3, 'n_estimators': 100, 'min_samples_split': 4, 'max_features': 10, 'max_depth': 4}\n",
      "Trying:  {'n_jobs': -1, 'min_samples_leaf': 6, 'n_estimators': 100, 'min_samples_split': 4, 'max_features': 10, 'max_depth': 4}\n",
      "Trying:  {'n_jobs': -1, 'min_samples_leaf': 9, 'n_estimators': 100, 'min_samples_split': 4, 'max_features': 10, 'max_depth': 4}\n",
      "Trying:  {'n_jobs': -1, 'min_samples_leaf': 3, 'n_estimators': 100, 'min_samples_split': 6, 'max_features': 10, 'max_depth': 4}\n",
      "Trying:  {'n_jobs': -1, 'min_samples_leaf': 6, 'n_estimators': 100, 'min_samples_split': 6, 'max_features': 10, 'max_depth': 4}\n",
      "Trying:  {'n_jobs': -1, 'min_samples_leaf': 9, 'n_estimators': 100, 'min_samples_split': 6, 'max_features': 10, 'max_depth': 4}\n",
      "Trying:  {'n_jobs': -1, 'min_samples_leaf': 3, 'n_estimators': 100, 'min_samples_split': 8, 'max_features': 10, 'max_depth': 4}\n",
      "Trying:  {'n_jobs': -1, 'min_samples_leaf': 6, 'n_estimators': 100, 'min_samples_split': 8, 'max_features': 10, 'max_depth': 4}\n",
      "Trying:  {'n_jobs': -1, 'min_samples_leaf': 9, 'n_estimators': 100, 'min_samples_split': 8, 'max_features': 10, 'max_depth': 4}\n",
      "Trying:  {'n_jobs': -1, 'min_samples_leaf': 3, 'n_estimators': 100, 'min_samples_split': 10, 'max_features': 10, 'max_depth': 4}\n",
      "Trying:  {'n_jobs': -1, 'min_samples_leaf': 6, 'n_estimators': 100, 'min_samples_split': 10, 'max_features': 10, 'max_depth': 4}\n",
      "Trying:  {'n_jobs': -1, 'min_samples_leaf': 9, 'n_estimators': 100, 'min_samples_split': 10, 'max_features': 10, 'max_depth': 4}\n",
      "Trying:  {'n_jobs': -1, 'min_samples_leaf': 3, 'n_estimators': 100, 'min_samples_split': 12, 'max_features': 10, 'max_depth': 4}\n",
      "Trying:  {'n_jobs': -1, 'min_samples_leaf': 6, 'n_estimators': 100, 'min_samples_split': 12, 'max_features': 10, 'max_depth': 4}\n",
      "Trying:  {'n_jobs': -1, 'min_samples_leaf': 9, 'n_estimators': 100, 'min_samples_split': 12, 'max_features': 10, 'max_depth': 4}\n",
      "Trying:  {'n_jobs': -1, 'min_samples_leaf': 3, 'n_estimators': 100, 'min_samples_split': 14, 'max_features': 10, 'max_depth': 4}\n",
      "Trying:  {'n_jobs': -1, 'min_samples_leaf': 6, 'n_estimators': 100, 'min_samples_split': 14, 'max_features': 10, 'max_depth': 4}\n",
      "Trying:  {'n_jobs': -1, 'min_samples_leaf': 9, 'n_estimators': 100, 'min_samples_split': 14, 'max_features': 10, 'max_depth': 4}\n",
      "Trying:  {'n_jobs': -1, 'min_samples_leaf': 3, 'n_estimators': 100, 'min_samples_split': 16, 'max_features': 10, 'max_depth': 4}\n",
      "Trying:  {'n_jobs': -1, 'min_samples_leaf': 6, 'n_estimators': 100, 'min_samples_split': 16, 'max_features': 10, 'max_depth': 4}\n",
      "Trying:  {'n_jobs': -1, 'min_samples_leaf': 9, 'n_estimators': 100, 'min_samples_split': 16, 'max_features': 10, 'max_depth': 4}\n",
      "Trying:  {'n_jobs': -1, 'min_samples_leaf': 3, 'n_estimators': 100, 'min_samples_split': 18, 'max_features': 10, 'max_depth': 4}\n",
      "Trying:  {'n_jobs': -1, 'min_samples_leaf': 6, 'n_estimators': 100, 'min_samples_split': 18, 'max_features': 10, 'max_depth': 4}\n",
      "Trying:  {'n_jobs': -1, 'min_samples_leaf': 9, 'n_estimators': 100, 'min_samples_split': 18, 'max_features': 10, 'max_depth': 4}\n",
      "Trying:  {'n_jobs': -1, 'min_samples_leaf': 3, 'n_estimators': 100, 'min_samples_split': 20, 'max_features': 10, 'max_depth': 4}\n",
      "Trying:  {'n_jobs': -1, 'min_samples_leaf': 6, 'n_estimators': 100, 'min_samples_split': 20, 'max_features': 10, 'max_depth': 4}\n",
      "Trying:  {'n_jobs': -1, 'min_samples_leaf': 9, 'n_estimators': 100, 'min_samples_split': 20, 'max_features': 10, 'max_depth': 4}\n",
      "Trying:  {'n_jobs': -1, 'min_samples_leaf': 3, 'n_estimators': 100, 'min_samples_split': 2, 'max_features': 10, 'max_depth': 6}\n",
      "Trying:  {'n_jobs': -1, 'min_samples_leaf': 6, 'n_estimators': 100, 'min_samples_split': 2, 'max_features': 10, 'max_depth': 6}\n",
      "Trying:  {'n_jobs': -1, 'min_samples_leaf': 9, 'n_estimators': 100, 'min_samples_split': 2, 'max_features': 10, 'max_depth': 6}\n",
      "Trying:  {'n_jobs': -1, 'min_samples_leaf': 3, 'n_estimators': 100, 'min_samples_split': 4, 'max_features': 10, 'max_depth': 6}\n",
      "Trying:  {'n_jobs': -1, 'min_samples_leaf': 6, 'n_estimators': 100, 'min_samples_split': 4, 'max_features': 10, 'max_depth': 6}\n",
      "Trying:  {'n_jobs': -1, 'min_samples_leaf': 9, 'n_estimators': 100, 'min_samples_split': 4, 'max_features': 10, 'max_depth': 6}\n",
      "Trying:  {'n_jobs': -1, 'min_samples_leaf': 3, 'n_estimators': 100, 'min_samples_split': 6, 'max_features': 10, 'max_depth': 6}\n",
      "Trying:  {'n_jobs': -1, 'min_samples_leaf': 6, 'n_estimators': 100, 'min_samples_split': 6, 'max_features': 10, 'max_depth': 6}\n",
      "Trying:  {'n_jobs': -1, 'min_samples_leaf': 9, 'n_estimators': 100, 'min_samples_split': 6, 'max_features': 10, 'max_depth': 6}\n",
      "Trying:  {'n_jobs': -1, 'min_samples_leaf': 3, 'n_estimators': 100, 'min_samples_split': 8, 'max_features': 10, 'max_depth': 6}\n",
      "Trying:  {'n_jobs': -1, 'min_samples_leaf': 6, 'n_estimators': 100, 'min_samples_split': 8, 'max_features': 10, 'max_depth': 6}\n",
      "Trying:  {'n_jobs': -1, 'min_samples_leaf': 9, 'n_estimators': 100, 'min_samples_split': 8, 'max_features': 10, 'max_depth': 6}\n",
      "Trying:  {'n_jobs': -1, 'min_samples_leaf': 3, 'n_estimators': 100, 'min_samples_split': 10, 'max_features': 10, 'max_depth': 6}\n",
      "Trying:  {'n_jobs': -1, 'min_samples_leaf': 6, 'n_estimators': 100, 'min_samples_split': 10, 'max_features': 10, 'max_depth': 6}\n",
      "Trying:  {'n_jobs': -1, 'min_samples_leaf': 9, 'n_estimators': 100, 'min_samples_split': 10, 'max_features': 10, 'max_depth': 6}\n",
      "Trying:  {'n_jobs': -1, 'min_samples_leaf': 3, 'n_estimators': 100, 'min_samples_split': 12, 'max_features': 10, 'max_depth': 6}\n",
      "Trying:  {'n_jobs': -1, 'min_samples_leaf': 6, 'n_estimators': 100, 'min_samples_split': 12, 'max_features': 10, 'max_depth': 6}\n",
      "Trying:  {'n_jobs': -1, 'min_samples_leaf': 9, 'n_estimators': 100, 'min_samples_split': 12, 'max_features': 10, 'max_depth': 6}\n",
      "Trying:  {'n_jobs': -1, 'min_samples_leaf': 3, 'n_estimators': 100, 'min_samples_split': 14, 'max_features': 10, 'max_depth': 6}\n",
      "Trying:  {'n_jobs': -1, 'min_samples_leaf': 6, 'n_estimators': 100, 'min_samples_split': 14, 'max_features': 10, 'max_depth': 6}\n",
      "Trying:  {'n_jobs': -1, 'min_samples_leaf': 9, 'n_estimators': 100, 'min_samples_split': 14, 'max_features': 10, 'max_depth': 6}\n",
      "Trying:  {'n_jobs': -1, 'min_samples_leaf': 3, 'n_estimators': 100, 'min_samples_split': 16, 'max_features': 10, 'max_depth': 6}\n",
      "Trying:  {'n_jobs': -1, 'min_samples_leaf': 6, 'n_estimators': 100, 'min_samples_split': 16, 'max_features': 10, 'max_depth': 6}\n",
      "Trying:  {'n_jobs': -1, 'min_samples_leaf': 9, 'n_estimators': 100, 'min_samples_split': 16, 'max_features': 10, 'max_depth': 6}\n",
      "Trying:  {'n_jobs': -1, 'min_samples_leaf': 3, 'n_estimators': 100, 'min_samples_split': 18, 'max_features': 10, 'max_depth': 6}\n",
      "Trying:  {'n_jobs': -1, 'min_samples_leaf': 6, 'n_estimators': 100, 'min_samples_split': 18, 'max_features': 10, 'max_depth': 6}\n",
      "Trying:  {'n_jobs': -1, 'min_samples_leaf': 9, 'n_estimators': 100, 'min_samples_split': 18, 'max_features': 10, 'max_depth': 6}\n",
      "Trying:  {'n_jobs': -1, 'min_samples_leaf': 3, 'n_estimators': 100, 'min_samples_split': 20, 'max_features': 10, 'max_depth': 6}\n",
      "Trying:  {'n_jobs': -1, 'min_samples_leaf': 6, 'n_estimators': 100, 'min_samples_split': 20, 'max_features': 10, 'max_depth': 6}\n",
      "Trying:  {'n_jobs': -1, 'min_samples_leaf': 9, 'n_estimators': 100, 'min_samples_split': 20, 'max_features': 10, 'max_depth': 6}\n",
      "Trying:  {'n_jobs': -1, 'min_samples_leaf': 3, 'n_estimators': 100, 'min_samples_split': 2, 'max_features': 10, 'max_depth': 8}\n",
      "Trying:  {'n_jobs': -1, 'min_samples_leaf': 6, 'n_estimators': 100, 'min_samples_split': 2, 'max_features': 10, 'max_depth': 8}\n",
      "Trying:  {'n_jobs': -1, 'min_samples_leaf': 9, 'n_estimators': 100, 'min_samples_split': 2, 'max_features': 10, 'max_depth': 8}\n",
      "Trying:  {'n_jobs': -1, 'min_samples_leaf': 3, 'n_estimators': 100, 'min_samples_split': 4, 'max_features': 10, 'max_depth': 8}\n",
      "Trying:  {'n_jobs': -1, 'min_samples_leaf': 6, 'n_estimators': 100, 'min_samples_split': 4, 'max_features': 10, 'max_depth': 8}\n",
      "Trying:  {'n_jobs': -1, 'min_samples_leaf': 9, 'n_estimators': 100, 'min_samples_split': 4, 'max_features': 10, 'max_depth': 8}\n",
      "Trying:  {'n_jobs': -1, 'min_samples_leaf': 3, 'n_estimators': 100, 'min_samples_split': 6, 'max_features': 10, 'max_depth': 8}\n",
      "Trying:  {'n_jobs': -1, 'min_samples_leaf': 6, 'n_estimators': 100, 'min_samples_split': 6, 'max_features': 10, 'max_depth': 8}\n",
      "Trying:  {'n_jobs': -1, 'min_samples_leaf': 9, 'n_estimators': 100, 'min_samples_split': 6, 'max_features': 10, 'max_depth': 8}\n",
      "Trying:  {'n_jobs': -1, 'min_samples_leaf': 3, 'n_estimators': 100, 'min_samples_split': 8, 'max_features': 10, 'max_depth': 8}\n",
      "Trying:  {'n_jobs': -1, 'min_samples_leaf': 6, 'n_estimators': 100, 'min_samples_split': 8, 'max_features': 10, 'max_depth': 8}\n",
      "Trying:  {'n_jobs': -1, 'min_samples_leaf': 9, 'n_estimators': 100, 'min_samples_split': 8, 'max_features': 10, 'max_depth': 8}\n",
      "Trying:  {'n_jobs': -1, 'min_samples_leaf': 3, 'n_estimators': 100, 'min_samples_split': 10, 'max_features': 10, 'max_depth': 8}\n",
      "Trying:  {'n_jobs': -1, 'min_samples_leaf': 6, 'n_estimators': 100, 'min_samples_split': 10, 'max_features': 10, 'max_depth': 8}\n",
      "Trying:  {'n_jobs': -1, 'min_samples_leaf': 9, 'n_estimators': 100, 'min_samples_split': 10, 'max_features': 10, 'max_depth': 8}\n",
      "Trying:  {'n_jobs': -1, 'min_samples_leaf': 3, 'n_estimators': 100, 'min_samples_split': 12, 'max_features': 10, 'max_depth': 8}\n",
      "Trying:  {'n_jobs': -1, 'min_samples_leaf': 6, 'n_estimators': 100, 'min_samples_split': 12, 'max_features': 10, 'max_depth': 8}\n",
      "Trying:  {'n_jobs': -1, 'min_samples_leaf': 9, 'n_estimators': 100, 'min_samples_split': 12, 'max_features': 10, 'max_depth': 8}\n",
      "Trying:  {'n_jobs': -1, 'min_samples_leaf': 3, 'n_estimators': 100, 'min_samples_split': 14, 'max_features': 10, 'max_depth': 8}\n",
      "Trying:  {'n_jobs': -1, 'min_samples_leaf': 6, 'n_estimators': 100, 'min_samples_split': 14, 'max_features': 10, 'max_depth': 8}\n",
      "Trying:  {'n_jobs': -1, 'min_samples_leaf': 9, 'n_estimators': 100, 'min_samples_split': 14, 'max_features': 10, 'max_depth': 8}\n",
      "Trying:  {'n_jobs': -1, 'min_samples_leaf': 3, 'n_estimators': 100, 'min_samples_split': 16, 'max_features': 10, 'max_depth': 8}\n",
      "Trying:  {'n_jobs': -1, 'min_samples_leaf': 6, 'n_estimators': 100, 'min_samples_split': 16, 'max_features': 10, 'max_depth': 8}\n",
      "Trying:  {'n_jobs': -1, 'min_samples_leaf': 9, 'n_estimators': 100, 'min_samples_split': 16, 'max_features': 10, 'max_depth': 8}\n",
      "Trying:  {'n_jobs': -1, 'min_samples_leaf': 3, 'n_estimators': 100, 'min_samples_split': 18, 'max_features': 10, 'max_depth': 8}\n",
      "Trying:  {'n_jobs': -1, 'min_samples_leaf': 6, 'n_estimators': 100, 'min_samples_split': 18, 'max_features': 10, 'max_depth': 8}\n",
      "Trying:  {'n_jobs': -1, 'min_samples_leaf': 9, 'n_estimators': 100, 'min_samples_split': 18, 'max_features': 10, 'max_depth': 8}\n",
      "Trying:  {'n_jobs': -1, 'min_samples_leaf': 3, 'n_estimators': 100, 'min_samples_split': 20, 'max_features': 10, 'max_depth': 8}\n",
      "Trying:  {'n_jobs': -1, 'min_samples_leaf': 6, 'n_estimators': 100, 'min_samples_split': 20, 'max_features': 10, 'max_depth': 8}\n",
      "Trying:  {'n_jobs': -1, 'min_samples_leaf': 9, 'n_estimators': 100, 'min_samples_split': 20, 'max_features': 10, 'max_depth': 8}\n",
      "Trying:  {'n_jobs': -1, 'min_samples_leaf': 3, 'n_estimators': 100, 'min_samples_split': 2, 'max_features': 10, 'max_depth': 10}\n",
      "Trying:  {'n_jobs': -1, 'min_samples_leaf': 6, 'n_estimators': 100, 'min_samples_split': 2, 'max_features': 10, 'max_depth': 10}\n",
      "Trying:  {'n_jobs': -1, 'min_samples_leaf': 9, 'n_estimators': 100, 'min_samples_split': 2, 'max_features': 10, 'max_depth': 10}\n",
      "Trying:  {'n_jobs': -1, 'min_samples_leaf': 3, 'n_estimators': 100, 'min_samples_split': 4, 'max_features': 10, 'max_depth': 10}\n",
      "Trying:  {'n_jobs': -1, 'min_samples_leaf': 6, 'n_estimators': 100, 'min_samples_split': 4, 'max_features': 10, 'max_depth': 10}\n",
      "Trying:  {'n_jobs': -1, 'min_samples_leaf': 9, 'n_estimators': 100, 'min_samples_split': 4, 'max_features': 10, 'max_depth': 10}\n",
      "Trying:  {'n_jobs': -1, 'min_samples_leaf': 3, 'n_estimators': 100, 'min_samples_split': 6, 'max_features': 10, 'max_depth': 10}\n",
      "Trying:  {'n_jobs': -1, 'min_samples_leaf': 6, 'n_estimators': 100, 'min_samples_split': 6, 'max_features': 10, 'max_depth': 10}\n",
      "Trying:  {'n_jobs': -1, 'min_samples_leaf': 9, 'n_estimators': 100, 'min_samples_split': 6, 'max_features': 10, 'max_depth': 10}\n",
      "Trying:  {'n_jobs': -1, 'min_samples_leaf': 3, 'n_estimators': 100, 'min_samples_split': 8, 'max_features': 10, 'max_depth': 10}\n",
      "Trying:  {'n_jobs': -1, 'min_samples_leaf': 6, 'n_estimators': 100, 'min_samples_split': 8, 'max_features': 10, 'max_depth': 10}\n",
      "Trying:  {'n_jobs': -1, 'min_samples_leaf': 9, 'n_estimators': 100, 'min_samples_split': 8, 'max_features': 10, 'max_depth': 10}\n",
      "Trying:  {'n_jobs': -1, 'min_samples_leaf': 3, 'n_estimators': 100, 'min_samples_split': 10, 'max_features': 10, 'max_depth': 10}\n",
      "Trying:  {'n_jobs': -1, 'min_samples_leaf': 6, 'n_estimators': 100, 'min_samples_split': 10, 'max_features': 10, 'max_depth': 10}\n",
      "Trying:  {'n_jobs': -1, 'min_samples_leaf': 9, 'n_estimators': 100, 'min_samples_split': 10, 'max_features': 10, 'max_depth': 10}\n",
      "Trying:  {'n_jobs': -1, 'min_samples_leaf': 3, 'n_estimators': 100, 'min_samples_split': 12, 'max_features': 10, 'max_depth': 10}\n",
      "Trying:  {'n_jobs': -1, 'min_samples_leaf': 6, 'n_estimators': 100, 'min_samples_split': 12, 'max_features': 10, 'max_depth': 10}\n",
      "Trying:  {'n_jobs': -1, 'min_samples_leaf': 9, 'n_estimators': 100, 'min_samples_split': 12, 'max_features': 10, 'max_depth': 10}\n",
      "Trying:  {'n_jobs': -1, 'min_samples_leaf': 3, 'n_estimators': 100, 'min_samples_split': 14, 'max_features': 10, 'max_depth': 10}\n",
      "Trying:  {'n_jobs': -1, 'min_samples_leaf': 6, 'n_estimators': 100, 'min_samples_split': 14, 'max_features': 10, 'max_depth': 10}\n",
      "Trying:  {'n_jobs': -1, 'min_samples_leaf': 9, 'n_estimators': 100, 'min_samples_split': 14, 'max_features': 10, 'max_depth': 10}\n",
      "Trying:  {'n_jobs': -1, 'min_samples_leaf': 3, 'n_estimators': 100, 'min_samples_split': 16, 'max_features': 10, 'max_depth': 10}\n",
      "Trying:  {'n_jobs': -1, 'min_samples_leaf': 6, 'n_estimators': 100, 'min_samples_split': 16, 'max_features': 10, 'max_depth': 10}\n",
      "Trying:  {'n_jobs': -1, 'min_samples_leaf': 9, 'n_estimators': 100, 'min_samples_split': 16, 'max_features': 10, 'max_depth': 10}\n",
      "Trying:  {'n_jobs': -1, 'min_samples_leaf': 3, 'n_estimators': 100, 'min_samples_split': 18, 'max_features': 10, 'max_depth': 10}\n",
      "Trying:  {'n_jobs': -1, 'min_samples_leaf': 6, 'n_estimators': 100, 'min_samples_split': 18, 'max_features': 10, 'max_depth': 10}\n",
      "Trying:  {'n_jobs': -1, 'min_samples_leaf': 9, 'n_estimators': 100, 'min_samples_split': 18, 'max_features': 10, 'max_depth': 10}\n",
      "Trying:  {'n_jobs': -1, 'min_samples_leaf': 3, 'n_estimators': 100, 'min_samples_split': 20, 'max_features': 10, 'max_depth': 10}\n",
      "Trying:  {'n_jobs': -1, 'min_samples_leaf': 6, 'n_estimators': 100, 'min_samples_split': 20, 'max_features': 10, 'max_depth': 10}\n",
      "Trying:  {'n_jobs': -1, 'min_samples_leaf': 9, 'n_estimators': 100, 'min_samples_split': 20, 'max_features': 10, 'max_depth': 10}\n",
      "Trying:  {'n_jobs': -1, 'min_samples_leaf': 3, 'n_estimators': 150, 'min_samples_split': 2, 'max_features': 10, 'max_depth': 4}\n",
      "Trying:  {'n_jobs': -1, 'min_samples_leaf': 6, 'n_estimators': 150, 'min_samples_split': 2, 'max_features': 10, 'max_depth': 4}\n",
      "Trying:  {'n_jobs': -1, 'min_samples_leaf': 9, 'n_estimators': 150, 'min_samples_split': 2, 'max_features': 10, 'max_depth': 4}\n",
      "Trying:  {'n_jobs': -1, 'min_samples_leaf': 3, 'n_estimators': 150, 'min_samples_split': 4, 'max_features': 10, 'max_depth': 4}\n",
      "Trying:  {'n_jobs': -1, 'min_samples_leaf': 6, 'n_estimators': 150, 'min_samples_split': 4, 'max_features': 10, 'max_depth': 4}\n",
      "Trying:  {'n_jobs': -1, 'min_samples_leaf': 9, 'n_estimators': 150, 'min_samples_split': 4, 'max_features': 10, 'max_depth': 4}\n",
      "Trying:  {'n_jobs': -1, 'min_samples_leaf': 3, 'n_estimators': 150, 'min_samples_split': 6, 'max_features': 10, 'max_depth': 4}\n",
      "Trying:  {'n_jobs': -1, 'min_samples_leaf': 6, 'n_estimators': 150, 'min_samples_split': 6, 'max_features': 10, 'max_depth': 4}\n",
      "Trying:  {'n_jobs': -1, 'min_samples_leaf': 9, 'n_estimators': 150, 'min_samples_split': 6, 'max_features': 10, 'max_depth': 4}\n",
      "Trying:  {'n_jobs': -1, 'min_samples_leaf': 3, 'n_estimators': 150, 'min_samples_split': 8, 'max_features': 10, 'max_depth': 4}\n",
      "Trying:  {'n_jobs': -1, 'min_samples_leaf': 6, 'n_estimators': 150, 'min_samples_split': 8, 'max_features': 10, 'max_depth': 4}\n",
      "Trying:  {'n_jobs': -1, 'min_samples_leaf': 9, 'n_estimators': 150, 'min_samples_split': 8, 'max_features': 10, 'max_depth': 4}\n",
      "Trying:  {'n_jobs': -1, 'min_samples_leaf': 3, 'n_estimators': 150, 'min_samples_split': 10, 'max_features': 10, 'max_depth': 4}\n",
      "Trying:  {'n_jobs': -1, 'min_samples_leaf': 6, 'n_estimators': 150, 'min_samples_split': 10, 'max_features': 10, 'max_depth': 4}\n",
      "Trying:  {'n_jobs': -1, 'min_samples_leaf': 9, 'n_estimators': 150, 'min_samples_split': 10, 'max_features': 10, 'max_depth': 4}\n",
      "Trying:  {'n_jobs': -1, 'min_samples_leaf': 3, 'n_estimators': 150, 'min_samples_split': 12, 'max_features': 10, 'max_depth': 4}\n",
      "Trying:  {'n_jobs': -1, 'min_samples_leaf': 6, 'n_estimators': 150, 'min_samples_split': 12, 'max_features': 10, 'max_depth': 4}\n",
      "Trying:  {'n_jobs': -1, 'min_samples_leaf': 9, 'n_estimators': 150, 'min_samples_split': 12, 'max_features': 10, 'max_depth': 4}\n",
      "Trying:  {'n_jobs': -1, 'min_samples_leaf': 3, 'n_estimators': 150, 'min_samples_split': 14, 'max_features': 10, 'max_depth': 4}\n",
      "Trying:  {'n_jobs': -1, 'min_samples_leaf': 6, 'n_estimators': 150, 'min_samples_split': 14, 'max_features': 10, 'max_depth': 4}\n",
      "Trying:  {'n_jobs': -1, 'min_samples_leaf': 9, 'n_estimators': 150, 'min_samples_split': 14, 'max_features': 10, 'max_depth': 4}\n",
      "Trying:  {'n_jobs': -1, 'min_samples_leaf': 3, 'n_estimators': 150, 'min_samples_split': 16, 'max_features': 10, 'max_depth': 4}\n",
      "Trying:  {'n_jobs': -1, 'min_samples_leaf': 6, 'n_estimators': 150, 'min_samples_split': 16, 'max_features': 10, 'max_depth': 4}\n",
      "Trying:  {'n_jobs': -1, 'min_samples_leaf': 9, 'n_estimators': 150, 'min_samples_split': 16, 'max_features': 10, 'max_depth': 4}\n",
      "Trying:  {'n_jobs': -1, 'min_samples_leaf': 3, 'n_estimators': 150, 'min_samples_split': 18, 'max_features': 10, 'max_depth': 4}\n",
      "Trying:  {'n_jobs': -1, 'min_samples_leaf': 6, 'n_estimators': 150, 'min_samples_split': 18, 'max_features': 10, 'max_depth': 4}\n",
      "Trying:  {'n_jobs': -1, 'min_samples_leaf': 9, 'n_estimators': 150, 'min_samples_split': 18, 'max_features': 10, 'max_depth': 4}\n",
      "Trying:  {'n_jobs': -1, 'min_samples_leaf': 3, 'n_estimators': 150, 'min_samples_split': 20, 'max_features': 10, 'max_depth': 4}\n",
      "Trying:  {'n_jobs': -1, 'min_samples_leaf': 6, 'n_estimators': 150, 'min_samples_split': 20, 'max_features': 10, 'max_depth': 4}\n",
      "Trying:  {'n_jobs': -1, 'min_samples_leaf': 9, 'n_estimators': 150, 'min_samples_split': 20, 'max_features': 10, 'max_depth': 4}\n",
      "Trying:  {'n_jobs': -1, 'min_samples_leaf': 3, 'n_estimators': 150, 'min_samples_split': 2, 'max_features': 10, 'max_depth': 6}\n",
      "Trying:  {'n_jobs': -1, 'min_samples_leaf': 6, 'n_estimators': 150, 'min_samples_split': 2, 'max_features': 10, 'max_depth': 6}\n",
      "Trying:  {'n_jobs': -1, 'min_samples_leaf': 9, 'n_estimators': 150, 'min_samples_split': 2, 'max_features': 10, 'max_depth': 6}\n",
      "Trying:  {'n_jobs': -1, 'min_samples_leaf': 3, 'n_estimators': 150, 'min_samples_split': 4, 'max_features': 10, 'max_depth': 6}\n",
      "Trying:  {'n_jobs': -1, 'min_samples_leaf': 6, 'n_estimators': 150, 'min_samples_split': 4, 'max_features': 10, 'max_depth': 6}\n",
      "Trying:  {'n_jobs': -1, 'min_samples_leaf': 9, 'n_estimators': 150, 'min_samples_split': 4, 'max_features': 10, 'max_depth': 6}\n",
      "Trying:  {'n_jobs': -1, 'min_samples_leaf': 3, 'n_estimators': 150, 'min_samples_split': 6, 'max_features': 10, 'max_depth': 6}\n",
      "Trying:  {'n_jobs': -1, 'min_samples_leaf': 6, 'n_estimators': 150, 'min_samples_split': 6, 'max_features': 10, 'max_depth': 6}\n",
      "Trying:  {'n_jobs': -1, 'min_samples_leaf': 9, 'n_estimators': 150, 'min_samples_split': 6, 'max_features': 10, 'max_depth': 6}\n",
      "Trying:  {'n_jobs': -1, 'min_samples_leaf': 3, 'n_estimators': 150, 'min_samples_split': 8, 'max_features': 10, 'max_depth': 6}\n",
      "Trying:  {'n_jobs': -1, 'min_samples_leaf': 6, 'n_estimators': 150, 'min_samples_split': 8, 'max_features': 10, 'max_depth': 6}\n",
      "Trying:  {'n_jobs': -1, 'min_samples_leaf': 9, 'n_estimators': 150, 'min_samples_split': 8, 'max_features': 10, 'max_depth': 6}\n",
      "Trying:  {'n_jobs': -1, 'min_samples_leaf': 3, 'n_estimators': 150, 'min_samples_split': 10, 'max_features': 10, 'max_depth': 6}\n",
      "Trying:  {'n_jobs': -1, 'min_samples_leaf': 6, 'n_estimators': 150, 'min_samples_split': 10, 'max_features': 10, 'max_depth': 6}\n",
      "Trying:  {'n_jobs': -1, 'min_samples_leaf': 9, 'n_estimators': 150, 'min_samples_split': 10, 'max_features': 10, 'max_depth': 6}\n",
      "Trying:  {'n_jobs': -1, 'min_samples_leaf': 3, 'n_estimators': 150, 'min_samples_split': 12, 'max_features': 10, 'max_depth': 6}\n",
      "Trying:  {'n_jobs': -1, 'min_samples_leaf': 6, 'n_estimators': 150, 'min_samples_split': 12, 'max_features': 10, 'max_depth': 6}\n",
      "Trying:  {'n_jobs': -1, 'min_samples_leaf': 9, 'n_estimators': 150, 'min_samples_split': 12, 'max_features': 10, 'max_depth': 6}\n",
      "Trying:  {'n_jobs': -1, 'min_samples_leaf': 3, 'n_estimators': 150, 'min_samples_split': 14, 'max_features': 10, 'max_depth': 6}\n",
      "Trying:  {'n_jobs': -1, 'min_samples_leaf': 6, 'n_estimators': 150, 'min_samples_split': 14, 'max_features': 10, 'max_depth': 6}\n",
      "Trying:  {'n_jobs': -1, 'min_samples_leaf': 9, 'n_estimators': 150, 'min_samples_split': 14, 'max_features': 10, 'max_depth': 6}\n",
      "Trying:  {'n_jobs': -1, 'min_samples_leaf': 3, 'n_estimators': 150, 'min_samples_split': 16, 'max_features': 10, 'max_depth': 6}\n",
      "Trying:  {'n_jobs': -1, 'min_samples_leaf': 6, 'n_estimators': 150, 'min_samples_split': 16, 'max_features': 10, 'max_depth': 6}\n",
      "Trying:  {'n_jobs': -1, 'min_samples_leaf': 9, 'n_estimators': 150, 'min_samples_split': 16, 'max_features': 10, 'max_depth': 6}\n",
      "Trying:  {'n_jobs': -1, 'min_samples_leaf': 3, 'n_estimators': 150, 'min_samples_split': 18, 'max_features': 10, 'max_depth': 6}\n",
      "Trying:  {'n_jobs': -1, 'min_samples_leaf': 6, 'n_estimators': 150, 'min_samples_split': 18, 'max_features': 10, 'max_depth': 6}\n",
      "Trying:  {'n_jobs': -1, 'min_samples_leaf': 9, 'n_estimators': 150, 'min_samples_split': 18, 'max_features': 10, 'max_depth': 6}\n",
      "Trying:  {'n_jobs': -1, 'min_samples_leaf': 3, 'n_estimators': 150, 'min_samples_split': 20, 'max_features': 10, 'max_depth': 6}\n",
      "Trying:  {'n_jobs': -1, 'min_samples_leaf': 6, 'n_estimators': 150, 'min_samples_split': 20, 'max_features': 10, 'max_depth': 6}\n",
      "Trying:  {'n_jobs': -1, 'min_samples_leaf': 9, 'n_estimators': 150, 'min_samples_split': 20, 'max_features': 10, 'max_depth': 6}\n",
      "Trying:  {'n_jobs': -1, 'min_samples_leaf': 3, 'n_estimators': 150, 'min_samples_split': 2, 'max_features': 10, 'max_depth': 8}\n",
      "Trying:  {'n_jobs': -1, 'min_samples_leaf': 6, 'n_estimators': 150, 'min_samples_split': 2, 'max_features': 10, 'max_depth': 8}\n",
      "Trying:  {'n_jobs': -1, 'min_samples_leaf': 9, 'n_estimators': 150, 'min_samples_split': 2, 'max_features': 10, 'max_depth': 8}\n",
      "Trying:  {'n_jobs': -1, 'min_samples_leaf': 3, 'n_estimators': 150, 'min_samples_split': 4, 'max_features': 10, 'max_depth': 8}\n",
      "Trying:  {'n_jobs': -1, 'min_samples_leaf': 6, 'n_estimators': 150, 'min_samples_split': 4, 'max_features': 10, 'max_depth': 8}\n",
      "Trying:  {'n_jobs': -1, 'min_samples_leaf': 9, 'n_estimators': 150, 'min_samples_split': 4, 'max_features': 10, 'max_depth': 8}\n",
      "Trying:  {'n_jobs': -1, 'min_samples_leaf': 3, 'n_estimators': 150, 'min_samples_split': 6, 'max_features': 10, 'max_depth': 8}\n",
      "Trying:  {'n_jobs': -1, 'min_samples_leaf': 6, 'n_estimators': 150, 'min_samples_split': 6, 'max_features': 10, 'max_depth': 8}\n",
      "Trying:  {'n_jobs': -1, 'min_samples_leaf': 9, 'n_estimators': 150, 'min_samples_split': 6, 'max_features': 10, 'max_depth': 8}\n",
      "Trying:  {'n_jobs': -1, 'min_samples_leaf': 3, 'n_estimators': 150, 'min_samples_split': 8, 'max_features': 10, 'max_depth': 8}\n",
      "Trying:  {'n_jobs': -1, 'min_samples_leaf': 6, 'n_estimators': 150, 'min_samples_split': 8, 'max_features': 10, 'max_depth': 8}\n",
      "Trying:  {'n_jobs': -1, 'min_samples_leaf': 9, 'n_estimators': 150, 'min_samples_split': 8, 'max_features': 10, 'max_depth': 8}\n",
      "Trying:  {'n_jobs': -1, 'min_samples_leaf': 3, 'n_estimators': 150, 'min_samples_split': 10, 'max_features': 10, 'max_depth': 8}\n",
      "Trying:  {'n_jobs': -1, 'min_samples_leaf': 6, 'n_estimators': 150, 'min_samples_split': 10, 'max_features': 10, 'max_depth': 8}\n",
      "Trying:  {'n_jobs': -1, 'min_samples_leaf': 9, 'n_estimators': 150, 'min_samples_split': 10, 'max_features': 10, 'max_depth': 8}\n",
      "Trying:  {'n_jobs': -1, 'min_samples_leaf': 3, 'n_estimators': 150, 'min_samples_split': 12, 'max_features': 10, 'max_depth': 8}\n",
      "Trying:  {'n_jobs': -1, 'min_samples_leaf': 6, 'n_estimators': 150, 'min_samples_split': 12, 'max_features': 10, 'max_depth': 8}\n",
      "Trying:  {'n_jobs': -1, 'min_samples_leaf': 9, 'n_estimators': 150, 'min_samples_split': 12, 'max_features': 10, 'max_depth': 8}\n",
      "Trying:  {'n_jobs': -1, 'min_samples_leaf': 3, 'n_estimators': 150, 'min_samples_split': 14, 'max_features': 10, 'max_depth': 8}\n",
      "Trying:  {'n_jobs': -1, 'min_samples_leaf': 6, 'n_estimators': 150, 'min_samples_split': 14, 'max_features': 10, 'max_depth': 8}\n",
      "Trying:  {'n_jobs': -1, 'min_samples_leaf': 9, 'n_estimators': 150, 'min_samples_split': 14, 'max_features': 10, 'max_depth': 8}\n",
      "Trying:  {'n_jobs': -1, 'min_samples_leaf': 3, 'n_estimators': 150, 'min_samples_split': 16, 'max_features': 10, 'max_depth': 8}\n",
      "Trying:  {'n_jobs': -1, 'min_samples_leaf': 6, 'n_estimators': 150, 'min_samples_split': 16, 'max_features': 10, 'max_depth': 8}\n",
      "Trying:  {'n_jobs': -1, 'min_samples_leaf': 9, 'n_estimators': 150, 'min_samples_split': 16, 'max_features': 10, 'max_depth': 8}\n",
      "Trying:  {'n_jobs': -1, 'min_samples_leaf': 3, 'n_estimators': 150, 'min_samples_split': 18, 'max_features': 10, 'max_depth': 8}\n",
      "Trying:  {'n_jobs': -1, 'min_samples_leaf': 6, 'n_estimators': 150, 'min_samples_split': 18, 'max_features': 10, 'max_depth': 8}\n",
      "Trying:  {'n_jobs': -1, 'min_samples_leaf': 9, 'n_estimators': 150, 'min_samples_split': 18, 'max_features': 10, 'max_depth': 8}\n",
      "Trying:  {'n_jobs': -1, 'min_samples_leaf': 3, 'n_estimators': 150, 'min_samples_split': 20, 'max_features': 10, 'max_depth': 8}\n",
      "Trying:  {'n_jobs': -1, 'min_samples_leaf': 6, 'n_estimators': 150, 'min_samples_split': 20, 'max_features': 10, 'max_depth': 8}\n",
      "Trying:  {'n_jobs': -1, 'min_samples_leaf': 9, 'n_estimators': 150, 'min_samples_split': 20, 'max_features': 10, 'max_depth': 8}\n",
      "Trying:  {'n_jobs': -1, 'min_samples_leaf': 3, 'n_estimators': 150, 'min_samples_split': 2, 'max_features': 10, 'max_depth': 10}\n",
      "Trying:  {'n_jobs': -1, 'min_samples_leaf': 6, 'n_estimators': 150, 'min_samples_split': 2, 'max_features': 10, 'max_depth': 10}\n",
      "Trying:  {'n_jobs': -1, 'min_samples_leaf': 9, 'n_estimators': 150, 'min_samples_split': 2, 'max_features': 10, 'max_depth': 10}\n",
      "Trying:  {'n_jobs': -1, 'min_samples_leaf': 3, 'n_estimators': 150, 'min_samples_split': 4, 'max_features': 10, 'max_depth': 10}\n",
      "Trying:  {'n_jobs': -1, 'min_samples_leaf': 6, 'n_estimators': 150, 'min_samples_split': 4, 'max_features': 10, 'max_depth': 10}\n",
      "Trying:  {'n_jobs': -1, 'min_samples_leaf': 9, 'n_estimators': 150, 'min_samples_split': 4, 'max_features': 10, 'max_depth': 10}\n",
      "Trying:  {'n_jobs': -1, 'min_samples_leaf': 3, 'n_estimators': 150, 'min_samples_split': 6, 'max_features': 10, 'max_depth': 10}\n",
      "Trying:  {'n_jobs': -1, 'min_samples_leaf': 6, 'n_estimators': 150, 'min_samples_split': 6, 'max_features': 10, 'max_depth': 10}\n",
      "Trying:  {'n_jobs': -1, 'min_samples_leaf': 9, 'n_estimators': 150, 'min_samples_split': 6, 'max_features': 10, 'max_depth': 10}\n",
      "Trying:  {'n_jobs': -1, 'min_samples_leaf': 3, 'n_estimators': 150, 'min_samples_split': 8, 'max_features': 10, 'max_depth': 10}\n",
      "Trying:  {'n_jobs': -1, 'min_samples_leaf': 6, 'n_estimators': 150, 'min_samples_split': 8, 'max_features': 10, 'max_depth': 10}\n",
      "Trying:  {'n_jobs': -1, 'min_samples_leaf': 9, 'n_estimators': 150, 'min_samples_split': 8, 'max_features': 10, 'max_depth': 10}\n",
      "Trying:  {'n_jobs': -1, 'min_samples_leaf': 3, 'n_estimators': 150, 'min_samples_split': 10, 'max_features': 10, 'max_depth': 10}\n",
      "Trying:  {'n_jobs': -1, 'min_samples_leaf': 6, 'n_estimators': 150, 'min_samples_split': 10, 'max_features': 10, 'max_depth': 10}\n",
      "Trying:  {'n_jobs': -1, 'min_samples_leaf': 9, 'n_estimators': 150, 'min_samples_split': 10, 'max_features': 10, 'max_depth': 10}\n",
      "Trying:  {'n_jobs': -1, 'min_samples_leaf': 3, 'n_estimators': 150, 'min_samples_split': 12, 'max_features': 10, 'max_depth': 10}\n",
      "Trying:  {'n_jobs': -1, 'min_samples_leaf': 6, 'n_estimators': 150, 'min_samples_split': 12, 'max_features': 10, 'max_depth': 10}\n",
      "Trying:  {'n_jobs': -1, 'min_samples_leaf': 9, 'n_estimators': 150, 'min_samples_split': 12, 'max_features': 10, 'max_depth': 10}\n",
      "Trying:  {'n_jobs': -1, 'min_samples_leaf': 3, 'n_estimators': 150, 'min_samples_split': 14, 'max_features': 10, 'max_depth': 10}\n",
      "Trying:  {'n_jobs': -1, 'min_samples_leaf': 6, 'n_estimators': 150, 'min_samples_split': 14, 'max_features': 10, 'max_depth': 10}\n",
      "Trying:  {'n_jobs': -1, 'min_samples_leaf': 9, 'n_estimators': 150, 'min_samples_split': 14, 'max_features': 10, 'max_depth': 10}\n",
      "Trying:  {'n_jobs': -1, 'min_samples_leaf': 3, 'n_estimators': 150, 'min_samples_split': 16, 'max_features': 10, 'max_depth': 10}\n",
      "Trying:  {'n_jobs': -1, 'min_samples_leaf': 6, 'n_estimators': 150, 'min_samples_split': 16, 'max_features': 10, 'max_depth': 10}\n",
      "Trying:  {'n_jobs': -1, 'min_samples_leaf': 9, 'n_estimators': 150, 'min_samples_split': 16, 'max_features': 10, 'max_depth': 10}\n",
      "Trying:  {'n_jobs': -1, 'min_samples_leaf': 3, 'n_estimators': 150, 'min_samples_split': 18, 'max_features': 10, 'max_depth': 10}\n",
      "Trying:  {'n_jobs': -1, 'min_samples_leaf': 6, 'n_estimators': 150, 'min_samples_split': 18, 'max_features': 10, 'max_depth': 10}\n",
      "Trying:  {'n_jobs': -1, 'min_samples_leaf': 9, 'n_estimators': 150, 'min_samples_split': 18, 'max_features': 10, 'max_depth': 10}\n",
      "Trying:  {'n_jobs': -1, 'min_samples_leaf': 3, 'n_estimators': 150, 'min_samples_split': 20, 'max_features': 10, 'max_depth': 10}\n",
      "Trying:  {'n_jobs': -1, 'min_samples_leaf': 6, 'n_estimators': 150, 'min_samples_split': 20, 'max_features': 10, 'max_depth': 10}\n",
      "Trying:  {'n_jobs': -1, 'min_samples_leaf': 9, 'n_estimators': 150, 'min_samples_split': 20, 'max_features': 10, 'max_depth': 10}\n"
     ]
    }
   ],
   "source": [
    "best_rfr_results = test_RF_params(Xtrain, Xtest, ytrain, ytest)"
   ]
  },
  {
   "cell_type": "code",
   "execution_count": 139,
   "metadata": {
    "collapsed": false
   },
   "outputs": [
    {
     "data": {
      "text/plain": [
       "{'mse_test': 4.3783880485253812,\n",
       " 'mse_train': 4.2387116667300981,\n",
       " 'params': {'max_depth': 10,\n",
       "  'max_features': 10,\n",
       "  'min_samples_leaf': 3,\n",
       "  'min_samples_split': 16,\n",
       "  'n_estimators': 150,\n",
       "  'n_jobs': -1},\n",
       " 'score_test': 0.66495633865393988,\n",
       " 'score_train': 0.66752959970865844,\n",
       " 'ypred_test': array([ 82.7705006 ,  78.958754  ,  74.16930691, ...,  74.3103352 ,\n",
       "         73.89038719,  74.52271352]),\n",
       " 'ypred_train': array([ 74.52676149,  74.1421838 ,  79.25132259, ...,  74.03474976,\n",
       "         74.14280303,  74.05413138])}"
      ]
     },
     "execution_count": 139,
     "metadata": {},
     "output_type": "execute_result"
    }
   ],
   "source": [
    "best_rfr_results"
   ]
  },
  {
   "cell_type": "code",
   "execution_count": 215,
   "metadata": {
    "collapsed": true
   },
   "outputs": [],
   "source": [
    "rfr_best = RFR(n_estimators = 100,\n",
    "               # max_features = 10,\n",
    "               max_depth = 10,\n",
    "               min_samples_split = 2,\n",
    "               min_samples_leaf = 3\n",
    "               )"
   ]
  },
  {
   "cell_type": "code",
   "execution_count": 216,
   "metadata": {
    "collapsed": false
   },
   "outputs": [
    {
     "data": {
      "text/plain": [
       "RandomForestRegressor(bootstrap=True, compute_importances=None,\n",
       "           criterion='mse', max_depth=10, max_features='auto',\n",
       "           max_leaf_nodes=None, min_density=None, min_samples_leaf=3,\n",
       "           min_samples_split=2, n_estimators=100, n_jobs=1,\n",
       "           oob_score=False, random_state=None, verbose=0)"
      ]
     },
     "execution_count": 216,
     "metadata": {},
     "output_type": "execute_result"
    }
   ],
   "source": [
    "rfr_best.fit(Xtrain, ytrain)"
   ]
  },
  {
   "cell_type": "code",
   "execution_count": 217,
   "metadata": {
    "collapsed": false
   },
   "outputs": [
    {
     "name": "stdout",
     "output_type": "stream",
     "text": [
      "0.677685553133\n",
      "0.665431888664\n",
      "mse:  4.379360536\n",
      "mae:  1.63479276898\n"
     ]
    }
   ],
   "source": [
    "print rfr_best.score(Xtrain, ytrain)\n",
    "print rfr_best.score(Xtest, ytest)\n",
    "\n",
    "ypred = rfr_best.predict(Xtest)\n",
    "print 'mse: ', mean_squared_error(ytest.tolist(), ypred.tolist())\n",
    "print 'mae: ', mean_absolute_error(ytest.tolist(), ypred.tolist())"
   ]
  },
  {
   "cell_type": "code",
   "execution_count": null,
   "metadata": {
    "collapsed": true
   },
   "outputs": [],
   "source": []
  },
  {
   "cell_type": "markdown",
   "metadata": {},
   "source": [
    "### Linear Regressions"
   ]
  },
  {
   "cell_type": "markdown",
   "metadata": {},
   "source": [
    "##### Testing Elastic, Ridge and Lasso"
   ]
  },
  {
   "cell_type": "code",
   "execution_count": 224,
   "metadata": {
    "collapsed": true
   },
   "outputs": [],
   "source": [
    "def brute_force(data, target_variable, predictors, model, alpha_list = [1.0], degree_list = [3]):\n",
    "    min_mse = 1e99\n",
    "    test_size_split = 0.5\n",
    "\n",
    "    #search over every combination of the predictors - using the itertools functionality\n",
    "    for i in xrange(1, len(predictors)):\n",
    "        \n",
    "        #build and test a model for each combination of predictors\n",
    "        for j in combinations(predictors, i):\n",
    "            \n",
    "            test_predictors = list(j)\n",
    "            \n",
    "            #use train test split to get the training and test datasets, according to the parameter test_size_split\n",
    "            X_train, X_test, y_train, y_test = tts(data[test_predictors], \\\n",
    "                                                    data[target_variable], test_size=test_size_split, random_state=42)\n",
    "            \n",
    "            #Now search over all the polynomial degrees in the degree_list\n",
    "            for degree in degree_list:\n",
    "                \n",
    "                #Make sure each model is regularized, and search over all alphas in the regularization list\n",
    "                for a in alpha_list:\n",
    "                    \n",
    "                    #build the model\n",
    "                    clf = make_pipeline(PolynomialFeatures(degree), model(alpha = a))\n",
    "                    \n",
    "                    #fit the model\n",
    "                    clf.fit(X_train, y_train)\n",
    "                    \n",
    "                    #Get the test set predictions\n",
    "                    y_hat = clf.predict(X_test)\n",
    "                    \n",
    "                    #measure the mean squared error of the test set\n",
    "                    mse = mean_squared_error(y_hat.tolist(), y_test.tolist())\n",
    "                    \n",
    "                    #remember ALL information for the minimum\n",
    "                    if mse < min_mse:\n",
    "                        min_mse = mse\n",
    "                        min_clf = clf\n",
    "                        min_predictors = test_predictors\n",
    "                        min_degree = degree\n",
    "                        min_alpha = a\n",
    "                        #unless you cannot afford to do this, it is always a good idea to remember the train, test\n",
    "                        #datasets actually used to build your model\n",
    "                        min_X_train = X_train\n",
    "                        min_y_train = y_train\n",
    "                        min_X_test = X_test\n",
    "                        min_y_test = y_test\n",
    "                    \n",
    "    #return a tuple for the minimum model and parameters\n",
    "    return (min_mse, min_clf, min_predictors, min_degree, min_alpha, min_X_train, min_y_train, min_X_test, min_y_test)"
   ]
  },
  {
   "cell_type": "code",
   "execution_count": 230,
   "metadata": {
    "collapsed": false
   },
   "outputs": [],
   "source": [
    "ridge_bf = brute_force(data = dfRosters,\n",
    "                       target_variable = ycol,\n",
    "                       predictors = Xcol,\n",
    "                       model = Ridge, \n",
    "                       degree_list = range(len(Xcol)),\n",
    "                       alpha_list = [1, 5, 10, 100]\n",
    "                      )"
   ]
  },
  {
   "cell_type": "code",
   "execution_count": 234,
   "metadata": {
    "collapsed": false
   },
   "outputs": [],
   "source": [
    "lasso_bf = brute_force(data = dfRosters,\n",
    "                       target_variable = ycol,\n",
    "                       predictors = Xcol,\n",
    "                       model = Lasso, \n",
    "                       degree_list = range(len(Xcol)),\n",
    "                       alpha_list = [.0000001, .0001, .1, 1]\n",
    "                      )"
   ]
  },
  {
   "cell_type": "code",
   "execution_count": 236,
   "metadata": {
    "collapsed": true
   },
   "outputs": [],
   "source": [
    "elastic_bf = brute_force(data = dfRosters,\n",
    "                       target_variable = ycol,\n",
    "                       predictors = Xcol,\n",
    "                       model = ElasticNet, \n",
    "                       degree_list = range(len(Xcol)),\n",
    "                       alpha_list = [.1, 1, 10]\n",
    "                      )"
   ]
  },
  {
   "cell_type": "code",
   "execution_count": 237,
   "metadata": {
    "collapsed": false
   },
   "outputs": [
    {
     "data": {
      "text/plain": [
       "(4.4425527196861445,\n",
       " Pipeline(steps=[('polynomialfeatures', PolynomialFeatures(degree=4, include_bias=True, interaction_only=False)), ('elasticnet', ElasticNet(alpha=0.1, copy_X=True, fit_intercept=True, l1_ratio=0.5,\n",
       "       max_iter=1000, normalize=False, positive=False, precompute='auto',\n",
       "       tol=0.0001, warm_start=False))]),\n",
       " ['year', 'multipos', 'conference_id', 'pos_id'],\n",
       " 4,\n",
       " 0.1,\n",
       " array([[2007.0, False, 12, 2],\n",
       "        [2010.0, False, 0, 2],\n",
       "        [2005.0, False, 16, 2],\n",
       "        ..., \n",
       "        [2013.0, True, 35, 0],\n",
       "        [2001.0, False, 18, 2],\n",
       "        [2004.0, False, 14, 1]], dtype=object),\n",
       " array([67, 69, 72, ..., 76, 71, 83]),\n",
       " array([[2012.0, False, 14, 0],\n",
       "        [2005.0, False, 18, 0],\n",
       "        [2005.0, False, 6, 0],\n",
       "        ..., \n",
       "        [2012.0, False, 3, 0],\n",
       "        [2011.0, False, 31, 0],\n",
       "        [2012.0, False, 10, 2]], dtype=object),\n",
       " array([80, 78, 80, ..., 77, 79, 72]))"
      ]
     },
     "execution_count": 237,
     "metadata": {},
     "output_type": "execute_result"
    }
   ],
   "source": [
    "elastic_bf"
   ]
  },
  {
   "cell_type": "code",
   "execution_count": 235,
   "metadata": {
    "collapsed": false
   },
   "outputs": [
    {
     "data": {
      "text/plain": [
       "(4.4424479917809885,\n",
       " Pipeline(steps=[('polynomialfeatures', PolynomialFeatures(degree=4, include_bias=True, interaction_only=False)), ('lasso', Lasso(alpha=0.1, copy_X=True, fit_intercept=True, max_iter=1000,\n",
       "    normalize=False, positive=False, precompute='auto', tol=0.0001,\n",
       "    warm_start=False))]),\n",
       " ['year', 'multipos', 'conference_id', 'pos_id'],\n",
       " 4,\n",
       " 0.1,\n",
       " array([[2007.0, False, 12, 2],\n",
       "        [2010.0, False, 0, 2],\n",
       "        [2005.0, False, 16, 2],\n",
       "        ..., \n",
       "        [2013.0, True, 35, 0],\n",
       "        [2001.0, False, 18, 2],\n",
       "        [2004.0, False, 14, 1]], dtype=object),\n",
       " array([67, 69, 72, ..., 76, 71, 83]),\n",
       " array([[2012.0, False, 14, 0],\n",
       "        [2005.0, False, 18, 0],\n",
       "        [2005.0, False, 6, 0],\n",
       "        ..., \n",
       "        [2012.0, False, 3, 0],\n",
       "        [2011.0, False, 31, 0],\n",
       "        [2012.0, False, 10, 2]], dtype=object),\n",
       " array([80, 78, 80, ..., 77, 79, 72]))"
      ]
     },
     "execution_count": 235,
     "metadata": {},
     "output_type": "execute_result"
    }
   ],
   "source": [
    "lasso_bf"
   ]
  },
  {
   "cell_type": "code",
   "execution_count": 231,
   "metadata": {
    "collapsed": false
   },
   "outputs": [
    {
     "data": {
      "text/plain": [
       "(4.4383561426370006,\n",
       " Pipeline(steps=[('polynomialfeatures', PolynomialFeatures(degree=4, include_bias=True, interaction_only=False)), ('ridge', Ridge(alpha=100, copy_X=True, fit_intercept=True, max_iter=None,\n",
       "    normalize=False, solver='auto', tol=0.001))]),\n",
       " ['year', 'multipos', 'conference_id', 'pos_id'],\n",
       " 4,\n",
       " 100,\n",
       " array([[2007.0, False, 12, 2],\n",
       "        [2010.0, False, 0, 2],\n",
       "        [2005.0, False, 16, 2],\n",
       "        ..., \n",
       "        [2013.0, True, 35, 0],\n",
       "        [2001.0, False, 18, 2],\n",
       "        [2004.0, False, 14, 1]], dtype=object),\n",
       " array([67, 69, 72, ..., 76, 71, 83]),\n",
       " array([[2012.0, False, 14, 0],\n",
       "        [2005.0, False, 18, 0],\n",
       "        [2005.0, False, 6, 0],\n",
       "        ..., \n",
       "        [2012.0, False, 3, 0],\n",
       "        [2011.0, False, 31, 0],\n",
       "        [2012.0, False, 10, 2]], dtype=object),\n",
       " array([80, 78, 80, ..., 77, 79, 72]))"
      ]
     },
     "execution_count": 231,
     "metadata": {},
     "output_type": "execute_result"
    }
   ],
   "source": [
    "ridge_bf"
   ]
  },
  {
   "cell_type": "code",
   "execution_count": null,
   "metadata": {
    "collapsed": true
   },
   "outputs": [],
   "source": []
  },
  {
   "cell_type": "code",
   "execution_count": null,
   "metadata": {
    "collapsed": true
   },
   "outputs": [],
   "source": []
  },
  {
   "cell_type": "code",
   "execution_count": null,
   "metadata": {
    "collapsed": true
   },
   "outputs": [],
   "source": []
  },
  {
   "cell_type": "code",
   "execution_count": null,
   "metadata": {
    "collapsed": true
   },
   "outputs": [],
   "source": []
  },
  {
   "cell_type": "code",
   "execution_count": null,
   "metadata": {
    "collapsed": true
   },
   "outputs": [],
   "source": []
  },
  {
   "cell_type": "code",
   "execution_count": null,
   "metadata": {
    "collapsed": true
   },
   "outputs": [],
   "source": []
  },
  {
   "cell_type": "code",
   "execution_count": null,
   "metadata": {
    "collapsed": true
   },
   "outputs": [],
   "source": []
  },
  {
   "cell_type": "code",
   "execution_count": null,
   "metadata": {
    "collapsed": true
   },
   "outputs": [],
   "source": []
  },
  {
   "cell_type": "code",
   "execution_count": null,
   "metadata": {
    "collapsed": true
   },
   "outputs": [],
   "source": []
  },
  {
   "cell_type": "code",
   "execution_count": null,
   "metadata": {
    "collapsed": true
   },
   "outputs": [],
   "source": []
  },
  {
   "cell_type": "code",
   "execution_count": null,
   "metadata": {
    "collapsed": true
   },
   "outputs": [],
   "source": []
  },
  {
   "cell_type": "code",
   "execution_count": null,
   "metadata": {
    "collapsed": true
   },
   "outputs": [],
   "source": []
  },
  {
   "cell_type": "code",
   "execution_count": null,
   "metadata": {
    "collapsed": true
   },
   "outputs": [],
   "source": []
  },
  {
   "cell_type": "code",
   "execution_count": null,
   "metadata": {
    "collapsed": true
   },
   "outputs": [],
   "source": []
  }
 ],
 "metadata": {
  "kernelspec": {
   "display_name": "Python 2",
   "language": "python",
   "name": "python2"
  },
  "language_info": {
   "codemirror_mode": {
    "name": "ipython",
    "version": 2
   },
   "file_extension": ".py",
   "mimetype": "text/x-python",
   "name": "python",
   "nbconvert_exporter": "python",
   "pygments_lexer": "ipython2",
   "version": "2.7.9"
  }
 },
 "nbformat": 4,
 "nbformat_minor": 0
}
