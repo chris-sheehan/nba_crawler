{
 "cells": [
  {
   "cell_type": "code",
   "execution_count": 1,
   "metadata": {
    "collapsed": true
   },
   "outputs": [],
   "source": [
    "import numpy as np\n",
    "import pandas as pd\n",
    "import matplotlib.pyplot as plt\n",
    "%matplotlib inline\n",
    "\n",
    "import datetime\n",
    "\n",
    "pd.set_option('display.max_columns', 150)"
   ]
  },
  {
   "cell_type": "code",
   "execution_count": 87,
   "metadata": {
    "collapsed": true
   },
   "outputs": [],
   "source": [
    "import timeit\n",
    "import multiprocessing\n",
    "import threading"
   ]
  },
  {
   "cell_type": "code",
   "execution_count": 11,
   "metadata": {
    "collapsed": true
   },
   "outputs": [],
   "source": [
    "df_stats = pd.read_csv('player_stats.csv')\n",
    "df_stats.drop(df_stats.columns[0], axis = 1, inplace= True)\n",
    "df_stats_backup = df_stats.copy()"
   ]
  },
  {
   "cell_type": "code",
   "execution_count": 12,
   "metadata": {
    "collapsed": true
   },
   "outputs": [],
   "source": [
    "REORDER_COLS = ['player_id', 'player', 'team', 'gm', 'mp', 'fg', 'fga', 'fg_pct', 'fg2', 'fg2a', 'fg2_pct', 'fg3', 'fg3a', 'fg3_pct', 'ft', 'fta', 'ft_pct', 'orb', 'drb', 'trb', 'ast', 'stl', 'blk', 'tov', 'pf', 'pts']"
   ]
  },
  {
   "cell_type": "code",
   "execution_count": 13,
   "metadata": {
    "collapsed": false
   },
   "outputs": [],
   "source": [
    "df_stats = df_stats[REORDER_COLS]\n",
    "df_stats.insert(3, 'dt', df_stats.gm.apply(lambda g: datetime.datetime.strptime(g[:10], \"%Y-%m-%d\").date() ))\n",
    "df_stats.sort(['dt', 'gm', 'team', 'player_id'], inplace = True)\n",
    "\n",
    "df_stats.reset_index(inplace = True, drop = True)"
   ]
  },
  {
   "cell_type": "code",
   "execution_count": 25,
   "metadata": {
    "collapsed": false
   },
   "outputs": [],
   "source": [
    "df_stats.insert(4, 'season', df_stats.dt.apply(lambda d:  d.year+1 if d.month > 4 else d.year))"
   ]
  },
  {
   "cell_type": "code",
   "execution_count": 14,
   "metadata": {
    "collapsed": true
   },
   "outputs": [],
   "source": [
    "df_stats.insert(6, 'home_team', df_stats.apply(lambda r: r.team in r.gm, axis = 1))"
   ]
  },
  {
   "cell_type": "code",
   "execution_count": 35,
   "metadata": {
    "collapsed": true
   },
   "outputs": [],
   "source": [
    "# df_stats_cum = df_stats.copy()\n",
    "df_stats_backup= df_stats.copy()"
   ]
  },
  {
   "cell_type": "code",
   "execution_count": 27,
   "metadata": {
    "collapsed": false
   },
   "outputs": [],
   "source": [
    "for c in df_stats_cum.columns:\n",
    "    if 'pct' in c:\n",
    "        df_stats_cum[c] = None"
   ]
  },
  {
   "cell_type": "code",
   "execution_count": null,
   "metadata": {
    "collapsed": true
   },
   "outputs": [],
   "source": [
    "# numb_cols = df_stats_cum.columns[7:]\n",
    "# for p in df_stats_cum.player_id.unique()[:20]:\n",
    "#     print p\n",
    "#     df_stats_cum.loc[df_stats_cum.player_id == p, numb_cols] = df_stats_cum.loc[df_stats_cum.player_id == p, numb_cols].cumsum(axis = 0)"
   ]
  },
  {
   "cell_type": "code",
   "execution_count": 110,
   "metadata": {
    "collapsed": true
   },
   "outputs": [],
   "source": [
    "def break_up_df_by_column(df, column):\n",
    "    dfs = {}\n",
    "    columns = df[column].unique()\n",
    "    for c in columns:\n",
    "        dfs[c] = df.loc[df[column] == c]\n",
    "    return dfs"
   ]
  },
  {
   "cell_type": "code",
   "execution_count": 111,
   "metadata": {
    "collapsed": true
   },
   "outputs": [],
   "source": [
    "seasons_dfs = break_up_df_by_column(df_stats, 'season')"
   ]
  },
  {
   "cell_type": "code",
   "execution_count": 114,
   "metadata": {
    "collapsed": false
   },
   "outputs": [
    {
     "name": "stdout",
     "output_type": "stream",
     "text": [
      "116727\n",
      "116658\n",
      "117311\n",
      "121732\n",
      "120999\n"
     ]
    }
   ],
   "source": [
    "for s in seasons_dfs:\n",
    "    print len(seasons_dfs[s])"
   ]
  },
  {
   "cell_type": "code",
   "execution_count": 124,
   "metadata": {
    "collapsed": true
   },
   "outputs": [],
   "source": [
    "def break_up_df_by_column(df, column):\n",
    "    dfs = {}\n",
    "    columns = df[column].unique()\n",
    "    for c in columns:\n",
    "        dfs[c] = df.loc[df[column] == c]\n",
    "    return dfs\n",
    "\n",
    "def cumsum_player_stats(df, numb_cols = numb_cols):\n",
    "    df.loc[:, numb_cols] = df.loc[:, numb_cols].cumsum(axis = 0)\n",
    "    return df"
   ]
  },
  {
   "cell_type": "code",
   "execution_count": 134,
   "metadata": {
    "collapsed": true
   },
   "outputs": [],
   "source": [
    "seasons_dfs = break_up_df_by_column(df_stats, 'season')\n",
    "\n",
    "df = seasons_dfs[2011]\n",
    "players = df.player_id.unique()[:50]\n",
    "df_final = pd.DataFrame()"
   ]
  },
  {
   "cell_type": "code",
   "execution_count": 138,
   "metadata": {
    "collapsed": false
   },
   "outputs": [],
   "source": [
    "pool = multiprocessing.Pool(4)"
   ]
  },
  {
   "cell_type": "code",
   "execution_count": 135,
   "metadata": {
    "collapsed": false
   },
   "outputs": [],
   "source": [
    "# ~30+ seconds for 50 records\n",
    "for p in players:\n",
    "    dftmp = df[df.player_id == p]\n",
    "    df_final = pd.concat([df_final, cumsum_player_stats(dftmp)])"
   ]
  },
  {
   "cell_type": "code",
   "execution_count": 136,
   "metadata": {
    "collapsed": false
   },
   "outputs": [
    {
     "data": {
      "text/html": [
       "<div style=\"max-height:1000px;max-width:1500px;overflow:auto;\">\n",
       "<table border=\"1\" class=\"dataframe\">\n",
       "  <thead>\n",
       "    <tr style=\"text-align: right;\">\n",
       "      <th></th>\n",
       "      <th>player_id</th>\n",
       "      <th>player</th>\n",
       "      <th>team</th>\n",
       "      <th>dt</th>\n",
       "      <th>season</th>\n",
       "      <th>gm</th>\n",
       "      <th>home_team</th>\n",
       "      <th>mp</th>\n",
       "      <th>fg</th>\n",
       "      <th>fga</th>\n",
       "      <th>fg_pct</th>\n",
       "      <th>fg2</th>\n",
       "      <th>fg2a</th>\n",
       "      <th>fg2_pct</th>\n",
       "      <th>fg3</th>\n",
       "      <th>fg3a</th>\n",
       "      <th>fg3_pct</th>\n",
       "      <th>ft</th>\n",
       "      <th>fta</th>\n",
       "      <th>ft_pct</th>\n",
       "      <th>orb</th>\n",
       "      <th>drb</th>\n",
       "      <th>trb</th>\n",
       "      <th>ast</th>\n",
       "      <th>stl</th>\n",
       "      <th>blk</th>\n",
       "      <th>tov</th>\n",
       "      <th>pf</th>\n",
       "      <th>pts</th>\n",
       "    </tr>\n",
       "  </thead>\n",
       "  <tbody>\n",
       "    <tr>\n",
       "      <th>0    </th>\n",
       "      <td> chris-mcnealy-2</td>\n",
       "      <td> Chris McNealy</td>\n",
       "      <td> california-irvine</td>\n",
       "      <td> 2010-11-08</td>\n",
       "      <td> 2011</td>\n",
       "      <td>            2010-11-08-illinois</td>\n",
       "      <td> False</td>\n",
       "      <td>  21</td>\n",
       "      <td>  3</td>\n",
       "      <td>  5</td>\n",
       "      <td> 0.600</td>\n",
       "      <td>  1</td>\n",
       "      <td>  3</td>\n",
       "      <td> 0.333</td>\n",
       "      <td> 2</td>\n",
       "      <td> 2</td>\n",
       "      <td> 1.0</td>\n",
       "      <td> 0</td>\n",
       "      <td> 0</td>\n",
       "      <td> NaN</td>\n",
       "      <td> 0</td>\n",
       "      <td>  3</td>\n",
       "      <td>  3</td>\n",
       "      <td> 1</td>\n",
       "      <td> 0</td>\n",
       "      <td> 1</td>\n",
       "      <td> 2</td>\n",
       "      <td> 2</td>\n",
       "      <td>  8</td>\n",
       "    </tr>\n",
       "    <tr>\n",
       "      <th>4282 </th>\n",
       "      <td> chris-mcnealy-2</td>\n",
       "      <td> Chris McNealy</td>\n",
       "      <td> california-irvine</td>\n",
       "      <td> 2010-11-13</td>\n",
       "      <td> 2011</td>\n",
       "      <td> 2010-11-13-southern-california</td>\n",
       "      <td> False</td>\n",
       "      <td>  45</td>\n",
       "      <td>  5</td>\n",
       "      <td> 11</td>\n",
       "      <td> 0.933</td>\n",
       "      <td>  3</td>\n",
       "      <td>  7</td>\n",
       "      <td> 0.833</td>\n",
       "      <td> 2</td>\n",
       "      <td> 4</td>\n",
       "      <td> 1.0</td>\n",
       "      <td> 0</td>\n",
       "      <td> 1</td>\n",
       "      <td> 0.0</td>\n",
       "      <td> 1</td>\n",
       "      <td>  6</td>\n",
       "      <td>  7</td>\n",
       "      <td> 1</td>\n",
       "      <td> 1</td>\n",
       "      <td> 1</td>\n",
       "      <td> 3</td>\n",
       "      <td> 4</td>\n",
       "      <td> 12</td>\n",
       "    </tr>\n",
       "    <tr>\n",
       "      <th>10267</th>\n",
       "      <td> chris-mcnealy-2</td>\n",
       "      <td> Chris McNealy</td>\n",
       "      <td> california-irvine</td>\n",
       "      <td> 2010-11-19</td>\n",
       "      <td> 2011</td>\n",
       "      <td>   2010-11-19-california-irvine</td>\n",
       "      <td>  True</td>\n",
       "      <td>  66</td>\n",
       "      <td>  9</td>\n",
       "      <td> 19</td>\n",
       "      <td> 1.433</td>\n",
       "      <td>  7</td>\n",
       "      <td> 14</td>\n",
       "      <td> 1.404</td>\n",
       "      <td> 2</td>\n",
       "      <td> 5</td>\n",
       "      <td> 1.0</td>\n",
       "      <td> 0</td>\n",
       "      <td> 1</td>\n",
       "      <td> NaN</td>\n",
       "      <td> 3</td>\n",
       "      <td> 10</td>\n",
       "      <td> 13</td>\n",
       "      <td> 2</td>\n",
       "      <td> 2</td>\n",
       "      <td> 1</td>\n",
       "      <td> 4</td>\n",
       "      <td> 6</td>\n",
       "      <td> 20</td>\n",
       "    </tr>\n",
       "    <tr>\n",
       "      <th>11699</th>\n",
       "      <td> chris-mcnealy-2</td>\n",
       "      <td> Chris McNealy</td>\n",
       "      <td> california-irvine</td>\n",
       "      <td> 2010-11-20</td>\n",
       "      <td> 2011</td>\n",
       "      <td>   2010-11-20-california-irvine</td>\n",
       "      <td>  True</td>\n",
       "      <td>  92</td>\n",
       "      <td> 14</td>\n",
       "      <td> 28</td>\n",
       "      <td> 1.989</td>\n",
       "      <td> 11</td>\n",
       "      <td> 21</td>\n",
       "      <td> 1.975</td>\n",
       "      <td> 3</td>\n",
       "      <td> 7</td>\n",
       "      <td> 1.5</td>\n",
       "      <td> 0</td>\n",
       "      <td> 1</td>\n",
       "      <td> NaN</td>\n",
       "      <td> 3</td>\n",
       "      <td> 11</td>\n",
       "      <td> 14</td>\n",
       "      <td> 3</td>\n",
       "      <td> 3</td>\n",
       "      <td> 1</td>\n",
       "      <td> 8</td>\n",
       "      <td> 8</td>\n",
       "      <td> 31</td>\n",
       "    </tr>\n",
       "    <tr>\n",
       "      <th>13395</th>\n",
       "      <td> chris-mcnealy-2</td>\n",
       "      <td> Chris McNealy</td>\n",
       "      <td> california-irvine</td>\n",
       "      <td> 2010-11-21</td>\n",
       "      <td> 2011</td>\n",
       "      <td>   2010-11-21-california-irvine</td>\n",
       "      <td>  True</td>\n",
       "      <td> 112</td>\n",
       "      <td> 16</td>\n",
       "      <td> 34</td>\n",
       "      <td> 2.322</td>\n",
       "      <td> 13</td>\n",
       "      <td> 27</td>\n",
       "      <td> 2.308</td>\n",
       "      <td> 3</td>\n",
       "      <td> 7</td>\n",
       "      <td> NaN</td>\n",
       "      <td> 1</td>\n",
       "      <td> 3</td>\n",
       "      <td> 0.5</td>\n",
       "      <td> 3</td>\n",
       "      <td> 12</td>\n",
       "      <td> 15</td>\n",
       "      <td> 4</td>\n",
       "      <td> 4</td>\n",
       "      <td> 1</td>\n",
       "      <td> 8</td>\n",
       "      <td> 9</td>\n",
       "      <td> 36</td>\n",
       "    </tr>\n",
       "  </tbody>\n",
       "</table>\n",
       "</div>"
      ],
      "text/plain": [
       "             player_id         player               team          dt  season  \\\n",
       "0      chris-mcnealy-2  Chris McNealy  california-irvine  2010-11-08    2011   \n",
       "4282   chris-mcnealy-2  Chris McNealy  california-irvine  2010-11-13    2011   \n",
       "10267  chris-mcnealy-2  Chris McNealy  california-irvine  2010-11-19    2011   \n",
       "11699  chris-mcnealy-2  Chris McNealy  california-irvine  2010-11-20    2011   \n",
       "13395  chris-mcnealy-2  Chris McNealy  california-irvine  2010-11-21    2011   \n",
       "\n",
       "                                   gm home_team   mp  fg  fga  fg_pct  fg2  \\\n",
       "0                 2010-11-08-illinois     False   21   3    5   0.600    1   \n",
       "4282   2010-11-13-southern-california     False   45   5   11   0.933    3   \n",
       "10267    2010-11-19-california-irvine      True   66   9   19   1.433    7   \n",
       "11699    2010-11-20-california-irvine      True   92  14   28   1.989   11   \n",
       "13395    2010-11-21-california-irvine      True  112  16   34   2.322   13   \n",
       "\n",
       "       fg2a  fg2_pct  fg3  fg3a  fg3_pct  ft  fta  ft_pct  orb  drb  trb  ast  \\\n",
       "0         3    0.333    2     2      1.0   0    0     NaN    0    3    3    1   \n",
       "4282      7    0.833    2     4      1.0   0    1     0.0    1    6    7    1   \n",
       "10267    14    1.404    2     5      1.0   0    1     NaN    3   10   13    2   \n",
       "11699    21    1.975    3     7      1.5   0    1     NaN    3   11   14    3   \n",
       "13395    27    2.308    3     7      NaN   1    3     0.5    3   12   15    4   \n",
       "\n",
       "       stl  blk  tov  pf  pts  \n",
       "0        0    1    2   2    8  \n",
       "4282     1    1    3   4   12  \n",
       "10267    2    1    4   6   20  \n",
       "11699    3    1    8   8   31  \n",
       "13395    4    1    8   9   36  "
      ]
     },
     "execution_count": 136,
     "metadata": {},
     "output_type": "execute_result"
    }
   ],
   "source": [
    "df_final.head()"
   ]
  },
  {
   "cell_type": "code",
   "execution_count": null,
   "metadata": {
    "collapsed": true
   },
   "outputs": [],
   "source": []
  },
  {
   "cell_type": "code",
   "execution_count": null,
   "metadata": {
    "collapsed": true
   },
   "outputs": [],
   "source": []
  },
  {
   "cell_type": "code",
   "execution_count": null,
   "metadata": {
    "collapsed": true
   },
   "outputs": [],
   "source": []
  },
  {
   "cell_type": "code",
   "execution_count": 97,
   "metadata": {
    "collapsed": false
   },
   "outputs": [],
   "source": [
    "def get_length_of_dataframe(p, y, numb_cols = numb_cols):\n",
    "    # print p\n",
    "    return df_stats.loc[(df_stats.player_id == p) & (df_stats.season == y), numb_cols].cumsum(axis = 0)\n",
    "    pass\n",
    "\n",
    "# def test_len(nn = 100):\n",
    "#     print datetime.datetime.now()\n",
    "#     df_stats[['player_id', 'season']].drop_duplicates().head(nn).apply(lambda r: get_length_of_dataframe(r.player_id, r.season), axis = 1)\n",
    "#     print datetime.datetime.now()\n",
    "    \n",
    "def test_len(df):\n",
    "    print datetime.datetime.now()\n",
    "    df.apply(lambda r: get_length_of_dataframe(r.player_id, r.season), axis = 1)\n",
    "    print datetime.datetime.now()"
   ]
  },
  {
   "cell_type": "code",
   "execution_count": 86,
   "metadata": {
    "collapsed": false
   },
   "outputs": [
    {
     "name": "stdout",
     "output_type": "stream",
     "text": [
      "2015-07-23 21:55:43.440090\n",
      "2015-07-23 21:56:10.743870\n"
     ]
    }
   ],
   "source": [
    "test_len(500)"
   ]
  },
  {
   "cell_type": "code",
   "execution_count": 103,
   "metadata": {
    "collapsed": false
   },
   "outputs": [],
   "source": [
    "df = df_stats[['player_id', 'season']].drop_duplicates().head(500)\n",
    "res = []\n",
    "\n",
    "t = threading.Thread(target = test_len, args = df)\n",
    "res.append(t)\n",
    "t.start()\n",
    "\n",
    "# p = multiprocessing.Process(target = test_len, args = df)\n",
    "# res.append(p)\n",
    "# p.start()"
   ]
  },
  {
   "cell_type": "code",
   "execution_count": null,
   "metadata": {
    "collapsed": true
   },
   "outputs": [],
   "source": [
    "# p = multiprocessing.Process(target=apply_find_opp, args=(df,counter,))\n",
    "# p.start()"
   ]
  },
  {
   "cell_type": "code",
   "execution_count": 108,
   "metadata": {
    "collapsed": false
   },
   "outputs": [
    {
     "data": {
      "text/plain": [
       "<Process(Process-6, stopped[1])>"
      ]
     },
     "execution_count": 108,
     "metadata": {},
     "output_type": "execute_result"
    }
   ],
   "source": [
    "p"
   ]
  },
  {
   "cell_type": "code",
   "execution_count": 83,
   "metadata": {
    "collapsed": false
   },
   "outputs": [
    {
     "name": "stdout",
     "output_type": "stream",
     "text": [
      "11913\n",
      "23371\n"
     ]
    }
   ],
   "source": [
    "print len(df_stats.player_id.unique())\n",
    "print len(df_stats[['player_id', 'season']].drop_duplicates())"
   ]
  },
  {
   "cell_type": "code",
   "execution_count": 34,
   "metadata": {
    "collapsed": false
   },
   "outputs": [
    {
     "data": {
      "text/html": [
       "<div style=\"max-height:1000px;max-width:1500px;overflow:auto;\">\n",
       "<table border=\"1\" class=\"dataframe\">\n",
       "  <thead>\n",
       "    <tr style=\"text-align: right;\">\n",
       "      <th></th>\n",
       "      <th>player_id</th>\n",
       "      <th>player</th>\n",
       "      <th>team</th>\n",
       "      <th>dt</th>\n",
       "      <th>season</th>\n",
       "      <th>gm</th>\n",
       "      <th>home_team</th>\n",
       "      <th>mp</th>\n",
       "      <th>fg</th>\n",
       "      <th>fga</th>\n",
       "      <th>fg_pct</th>\n",
       "      <th>fg2</th>\n",
       "      <th>fg2a</th>\n",
       "      <th>fg2_pct</th>\n",
       "      <th>fg3</th>\n",
       "      <th>fg3a</th>\n",
       "      <th>fg3_pct</th>\n",
       "      <th>ft</th>\n",
       "      <th>fta</th>\n",
       "      <th>ft_pct</th>\n",
       "      <th>orb</th>\n",
       "      <th>drb</th>\n",
       "      <th>trb</th>\n",
       "      <th>ast</th>\n",
       "      <th>stl</th>\n",
       "      <th>blk</th>\n",
       "      <th>tov</th>\n",
       "      <th>pf</th>\n",
       "      <th>pts</th>\n",
       "    </tr>\n",
       "  </thead>\n",
       "  <tbody>\n",
       "    <tr>\n",
       "      <th>11   </th>\n",
       "      <td> bill-cole-1</td>\n",
       "      <td> Bill Cole</td>\n",
       "      <td> illinois</td>\n",
       "      <td> 2010-11-08</td>\n",
       "      <td> 2011</td>\n",
       "      <td> 2010-11-08-illinois</td>\n",
       "      <td>  True</td>\n",
       "      <td> 20</td>\n",
       "      <td> 2</td>\n",
       "      <td>  4</td>\n",
       "      <td> NaN</td>\n",
       "      <td> 2</td>\n",
       "      <td> 2</td>\n",
       "      <td> NaN</td>\n",
       "      <td> 0</td>\n",
       "      <td>  2</td>\n",
       "      <td> NaN</td>\n",
       "      <td> 0</td>\n",
       "      <td> 0</td>\n",
       "      <td> NaN</td>\n",
       "      <td> 1</td>\n",
       "      <td> 4</td>\n",
       "      <td>  5</td>\n",
       "      <td> 3</td>\n",
       "      <td> 0</td>\n",
       "      <td> 1</td>\n",
       "      <td> 0</td>\n",
       "      <td> 3</td>\n",
       "      <td>  4</td>\n",
       "    </tr>\n",
       "    <tr>\n",
       "      <th>89   </th>\n",
       "      <td> bill-cole-1</td>\n",
       "      <td> Bill Cole</td>\n",
       "      <td> illinois</td>\n",
       "      <td> 2010-11-10</td>\n",
       "      <td> 2011</td>\n",
       "      <td> 2010-11-10-illinois</td>\n",
       "      <td>  True</td>\n",
       "      <td> 38</td>\n",
       "      <td> 4</td>\n",
       "      <td>  9</td>\n",
       "      <td> NaN</td>\n",
       "      <td> 3</td>\n",
       "      <td> 3</td>\n",
       "      <td> NaN</td>\n",
       "      <td> 1</td>\n",
       "      <td>  6</td>\n",
       "      <td> NaN</td>\n",
       "      <td> 0</td>\n",
       "      <td> 0</td>\n",
       "      <td> NaN</td>\n",
       "      <td> 1</td>\n",
       "      <td> 5</td>\n",
       "      <td>  6</td>\n",
       "      <td> 4</td>\n",
       "      <td> 2</td>\n",
       "      <td> 3</td>\n",
       "      <td> 0</td>\n",
       "      <td> 5</td>\n",
       "      <td>  9</td>\n",
       "    </tr>\n",
       "    <tr>\n",
       "      <th>3745 </th>\n",
       "      <td> bill-cole-1</td>\n",
       "      <td> Bill Cole</td>\n",
       "      <td> illinois</td>\n",
       "      <td> 2010-11-13</td>\n",
       "      <td> 2011</td>\n",
       "      <td> 2010-11-13-illinois</td>\n",
       "      <td>  True</td>\n",
       "      <td> 55</td>\n",
       "      <td> 5</td>\n",
       "      <td> 12</td>\n",
       "      <td> NaN</td>\n",
       "      <td> 4</td>\n",
       "      <td> 5</td>\n",
       "      <td> NaN</td>\n",
       "      <td> 1</td>\n",
       "      <td>  7</td>\n",
       "      <td> NaN</td>\n",
       "      <td> 0</td>\n",
       "      <td> 0</td>\n",
       "      <td> NaN</td>\n",
       "      <td> 3</td>\n",
       "      <td> 7</td>\n",
       "      <td> 10</td>\n",
       "      <td> 4</td>\n",
       "      <td> 3</td>\n",
       "      <td> 3</td>\n",
       "      <td> 1</td>\n",
       "      <td> 6</td>\n",
       "      <td> 11</td>\n",
       "    </tr>\n",
       "    <tr>\n",
       "      <th>10085</th>\n",
       "      <td> bill-cole-1</td>\n",
       "      <td> Bill Cole</td>\n",
       "      <td> illinois</td>\n",
       "      <td> 2010-11-18</td>\n",
       "      <td> 2011</td>\n",
       "      <td>    2010-11-18-texas</td>\n",
       "      <td> False</td>\n",
       "      <td> 72</td>\n",
       "      <td> 7</td>\n",
       "      <td> 17</td>\n",
       "      <td> NaN</td>\n",
       "      <td> 4</td>\n",
       "      <td> 6</td>\n",
       "      <td> NaN</td>\n",
       "      <td> 3</td>\n",
       "      <td> 11</td>\n",
       "      <td> NaN</td>\n",
       "      <td> 3</td>\n",
       "      <td> 4</td>\n",
       "      <td> NaN</td>\n",
       "      <td> 3</td>\n",
       "      <td> 7</td>\n",
       "      <td> 10</td>\n",
       "      <td> 4</td>\n",
       "      <td> 3</td>\n",
       "      <td> 5</td>\n",
       "      <td> 1</td>\n",
       "      <td> 8</td>\n",
       "      <td> 20</td>\n",
       "    </tr>\n",
       "    <tr>\n",
       "      <th>10585</th>\n",
       "      <td> bill-cole-1</td>\n",
       "      <td> Bill Cole</td>\n",
       "      <td> illinois</td>\n",
       "      <td> 2010-11-19</td>\n",
       "      <td> 2011</td>\n",
       "      <td> 2010-11-19-illinois</td>\n",
       "      <td>  True</td>\n",
       "      <td> 94</td>\n",
       "      <td> 8</td>\n",
       "      <td> 22</td>\n",
       "      <td> NaN</td>\n",
       "      <td> 4</td>\n",
       "      <td> 7</td>\n",
       "      <td> NaN</td>\n",
       "      <td> 4</td>\n",
       "      <td> 15</td>\n",
       "      <td> NaN</td>\n",
       "      <td> 3</td>\n",
       "      <td> 6</td>\n",
       "      <td> NaN</td>\n",
       "      <td> 4</td>\n",
       "      <td> 8</td>\n",
       "      <td> 12</td>\n",
       "      <td> 6</td>\n",
       "      <td> 4</td>\n",
       "      <td> 5</td>\n",
       "      <td> 1</td>\n",
       "      <td> 8</td>\n",
       "      <td> 23</td>\n",
       "    </tr>\n",
       "  </tbody>\n",
       "</table>\n",
       "</div>"
      ],
      "text/plain": [
       "         player_id     player      team          dt  season  \\\n",
       "11     bill-cole-1  Bill Cole  illinois  2010-11-08    2011   \n",
       "89     bill-cole-1  Bill Cole  illinois  2010-11-10    2011   \n",
       "3745   bill-cole-1  Bill Cole  illinois  2010-11-13    2011   \n",
       "10085  bill-cole-1  Bill Cole  illinois  2010-11-18    2011   \n",
       "10585  bill-cole-1  Bill Cole  illinois  2010-11-19    2011   \n",
       "\n",
       "                        gm home_team  mp  fg  fga fg_pct  fg2  fg2a fg2_pct  \\\n",
       "11     2010-11-08-illinois      True  20   2    4    NaN    2     2     NaN   \n",
       "89     2010-11-10-illinois      True  38   4    9    NaN    3     3     NaN   \n",
       "3745   2010-11-13-illinois      True  55   5   12    NaN    4     5     NaN   \n",
       "10085     2010-11-18-texas     False  72   7   17    NaN    4     6     NaN   \n",
       "10585  2010-11-19-illinois      True  94   8   22    NaN    4     7     NaN   \n",
       "\n",
       "       fg3  fg3a fg3_pct  ft  fta ft_pct  orb  drb  trb  ast  stl  blk  tov  \\\n",
       "11       0     2     NaN   0    0    NaN    1    4    5    3    0    1    0   \n",
       "89       1     6     NaN   0    0    NaN    1    5    6    4    2    3    0   \n",
       "3745     1     7     NaN   0    0    NaN    3    7   10    4    3    3    1   \n",
       "10085    3    11     NaN   3    4    NaN    3    7   10    4    3    5    1   \n",
       "10585    4    15     NaN   3    6    NaN    4    8   12    6    4    5    1   \n",
       "\n",
       "       pf  pts  \n",
       "11      3    4  \n",
       "89      5    9  \n",
       "3745    6   11  \n",
       "10085   8   20  \n",
       "10585   8   23  "
      ]
     },
     "execution_count": 34,
     "metadata": {},
     "output_type": "execute_result"
    }
   ],
   "source": [
    "df_stats_cum.loc[df_stats_cum.player_id.isin(df_stats_cum.player_id.unique()[:20])].sort('player_id').head()"
   ]
  },
  {
   "cell_type": "code",
   "execution_count": null,
   "metadata": {
    "collapsed": true
   },
   "outputs": [],
   "source": []
  },
  {
   "cell_type": "code",
   "execution_count": null,
   "metadata": {
    "collapsed": true
   },
   "outputs": [],
   "source": []
  }
 ],
 "metadata": {
  "kernelspec": {
   "display_name": "Python 2",
   "language": "python",
   "name": "python2"
  },
  "language_info": {
   "codemirror_mode": {
    "name": "ipython",
    "version": 2
   },
   "file_extension": ".py",
   "mimetype": "text/x-python",
   "name": "python",
   "nbconvert_exporter": "python",
   "pygments_lexer": "ipython2",
   "version": "2.7.9"
  }
 },
 "nbformat": 4,
 "nbformat_minor": 0
}
