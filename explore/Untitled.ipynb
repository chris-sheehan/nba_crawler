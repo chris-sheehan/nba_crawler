{
 "cells": [
  {
   "cell_type": "code",
   "execution_count": 1,
   "metadata": {
    "collapsed": true
   },
   "outputs": [],
   "source": [
    "import os\n",
    "import numpy as np\n",
    "import pandas as pd\n",
    "import datetime\n",
    "\n",
    "pd.set_option('display.width', 500)\n",
    "pd.set_option('display.max_rows', 500)\n",
    "pd.set_option('display.max_columns', 100)\n",
    "\n",
    "import matplotlib.pyplot as plt\n",
    "%matplotlib inline"
   ]
  },
  {
   "cell_type": "code",
   "execution_count": 3,
   "metadata": {
    "collapsed": true
   },
   "outputs": [],
   "source": []
  },
  {
   "cell_type": "code",
   "execution_count": 54,
   "metadata": {
    "collapsed": true
   },
   "outputs": [],
   "source": [
    "DIR_BOXES = '../data/boxes'\n",
    "STD_COLUMNS = ['player_id','player','team',\n",
    "               'gm','mp','pts',\n",
    "               'fg','fga','fg_pct',\n",
    "               'fg3','fg3a','fg3_pct',\n",
    "               'ft','fta','ft_pct',\n",
    "               'drb', 'orb', 'trb',\n",
    "               'ast','stl','blk','tov','pf',\n",
    "               'plus_minus'\n",
    "              ]\n",
    "ADV_COLUMNS = ['player_id','player','team',\n",
    "               'gm','mp',\n",
    "               'efg_pct', 'ts_pct',\n",
    "               'fg3a_per_fga_pct','fta_per_fga_pct',\n",
    "               'drb_pct', 'orb_pct', 'trb_pct',\n",
    "               'ast_pct','stl_pct','blk_pct','tov_pct',\n",
    "               'off_rtg','def_rtg','usg_pct',\n",
    "              ]"
   ]
  },
  {
   "cell_type": "code",
   "execution_count": 178,
   "metadata": {
    "collapsed": true
   },
   "outputs": [],
   "source": [
    "def minsec_to_decimal(minsec):\n",
    "    if pd.isnull(minsec):\n",
    "        min_decimal = 0\n",
    "    elif ':' not in minsec:\n",
    "        min_decimal = 0\n",
    "    else:\n",
    "        m, s = minsec.split(':')\n",
    "        min_decimal = int(m) + int(s)/60.\n",
    "    return min_decimal\n",
    "\n",
    "def extract_date_from_gm_code(gm):\n",
    "    return datetime.datetime.strptime(gm[:8], '%Y%m%d').date()\n",
    "\n",
    "def extract_season_from_date(dt):\n",
    "    yr,mnth = dt.year, dt.month\n",
    "    if mnth < 7:\n",
    "        season = yr\n",
    "    else:\n",
    "        season = yr+1\n",
    "    return season\n",
    "\n",
    "def is_home(row):\n",
    "    return row.team.upper() in row.gm"
   ]
  },
  {
   "cell_type": "code",
   "execution_count": 16,
   "metadata": {
    "collapsed": false
   },
   "outputs": [],
   "source": [
    "box_files = os.listdir(DIR_BOXES)\n",
    "std_box_files = [os.path.join(DIR_BOXES, b) for b in box_files if 'adv' not in b]\n",
    "adv_box_files = [os.path.join(DIR_BOXES, b) for b in box_files if 'adv' in b]"
   ]
  },
  {
   "cell_type": "markdown",
   "metadata": {},
   "source": [
    "  "
   ]
  },
  {
   "cell_type": "code",
   "execution_count": 79,
   "metadata": {
    "collapsed": false
   },
   "outputs": [],
   "source": [
    "std_boxes = pd.concat([pd.read_csv(box) for box in std_box_files])[STD_COLUMNS]\n",
    "std_boxes.reset_index(inplace = True)\n",
    "adv_boxes = pd.concat([pd.read_csv(box) for box in adv_box_files])[ADV_COLUMNS]\n",
    "adv_boxes.reset_index(inplace = True)\n",
    "\n",
    "adv_boxes.rename(columns = {'fg3a_per_fga_pct' : 'fg3r', 'fta_per_fga_pct' : 'ftr'}, inplace = True)\n",
    "\n",
    "set(std_boxes.columns).intersection(adv_boxes.columns)\n",
    "boxes = std_boxes.merge(adv_boxes.drop(['mp', 'player', 'team'], 1), how = 'inner',  on = ['player_id', 'gm'])\n",
    "\n",
    "boxes['mp_dec'] = boxes.mp.apply(lambda minsec: minsec_to_decimal(minsec))\n",
    "boxes['dt'] = boxes.gm.apply(lambda gm: extract_date_from_gm_code(gm))\n",
    "boxes['season'] = boxes.dt.apply(lambda dt: extract_season_from_date(dt))\n",
    "boxes['is_home'] = boxes.apply(is_home, 1)\n",
    "\n",
    "game_nums = dict()\n",
    "for tm in boxes.team.unique():\n",
    "    game_nums.setdefault(tm, dict())\n",
    "    for season in boxes.season.unique():\n",
    "        game_nums[tm][season] = {g : n+1 for n, g in enumerate(boxes[(boxes.team == tm) & (boxes.season == season)].gm.unique())}\n",
    "\n",
    "boxes['net_rtg'] = boxes.off_rtg - boxes.def_rtg\n",
    "boxes['game_num'] = boxes.apply(lambda row: game_nums[row.team][row.season][row.gm], 1)\n",
    "boxes['next_game_num'] = boxes.game_num + 1\n",
    "boxes['reg_season'] = boxes.game_num.apply(lambda g: g <=82)"
   ]
  },
  {
   "cell_type": "markdown",
   "metadata": {},
   "source": [
    " "
   ]
  },
  {
   "cell_type": "code",
   "execution_count": 249,
   "metadata": {
    "collapsed": true
   },
   "outputs": [],
   "source": []
  },
  {
   "cell_type": "code",
   "execution_count": 210,
   "metadata": {
    "collapsed": false
   },
   "outputs": [],
   "source": [
    "boxes.sort_va`lues(['dt', 'gm', 'is_home', 'mp'], ascending = [True, True, True, False], inplace = True)"
   ]
  },
  {
   "cell_type": "code",
   "execution_count": 250,
   "metadata": {
    "collapsed": false
   },
   "outputs": [
    {
     "data": {
      "text/html": [
       "<div>\n",
       "<table border=\"1\" class=\"dataframe\">\n",
       "  <thead>\n",
       "    <tr style=\"text-align: right;\">\n",
       "      <th></th>\n",
       "      <th>player_id</th>\n",
       "      <th>player</th>\n",
       "      <th>team</th>\n",
       "      <th>gm</th>\n",
       "      <th>mp</th>\n",
       "      <th>pts</th>\n",
       "      <th>fg</th>\n",
       "      <th>fga</th>\n",
       "      <th>fg_pct</th>\n",
       "      <th>fg3</th>\n",
       "      <th>fg3a</th>\n",
       "      <th>fg3_pct</th>\n",
       "      <th>ft</th>\n",
       "      <th>fta</th>\n",
       "      <th>ft_pct</th>\n",
       "      <th>drb</th>\n",
       "      <th>orb</th>\n",
       "      <th>trb</th>\n",
       "      <th>ast</th>\n",
       "      <th>stl</th>\n",
       "      <th>blk</th>\n",
       "      <th>tov</th>\n",
       "      <th>pf</th>\n",
       "      <th>plus_minus</th>\n",
       "      <th>efg_pct</th>\n",
       "      <th>ts_pct</th>\n",
       "      <th>fg3r</th>\n",
       "      <th>ftr</th>\n",
       "      <th>drb_pct</th>\n",
       "      <th>orb_pct</th>\n",
       "      <th>trb_pct</th>\n",
       "      <th>ast_pct</th>\n",
       "      <th>stl_pct</th>\n",
       "      <th>blk_pct</th>\n",
       "      <th>tov_pct</th>\n",
       "      <th>off_rtg</th>\n",
       "      <th>def_rtg</th>\n",
       "      <th>usg_pct</th>\n",
       "      <th>mp_dec</th>\n",
       "      <th>dt</th>\n",
       "      <th>season</th>\n",
       "      <th>is_home</th>\n",
       "      <th>game_num</th>\n",
       "      <th>next_game_num</th>\n",
       "      <th>reg_season</th>\n",
       "      <th>net_rtg</th>\n",
       "    </tr>\n",
       "  </thead>\n",
       "  <tbody>\n",
       "    <tr>\n",
       "      <th>0</th>\n",
       "      <td>priceaj01</td>\n",
       "      <td>A.J. Price</td>\n",
       "      <td>was</td>\n",
       "      <td>201210300CLE</td>\n",
       "      <td>29:24</td>\n",
       "      <td>7.0</td>\n",
       "      <td>2.0</td>\n",
       "      <td>13.0</td>\n",
       "      <td>0.154</td>\n",
       "      <td>2.0</td>\n",
       "      <td>9.0</td>\n",
       "      <td>0.222</td>\n",
       "      <td>1.0</td>\n",
       "      <td>1.0</td>\n",
       "      <td>1.00</td>\n",
       "      <td>1.0</td>\n",
       "      <td>1.0</td>\n",
       "      <td>2.0</td>\n",
       "      <td>6.0</td>\n",
       "      <td>0.0</td>\n",
       "      <td>0.0</td>\n",
       "      <td>1.0</td>\n",
       "      <td>1.0</td>\n",
       "      <td>-11.0</td>\n",
       "      <td>0.231</td>\n",
       "      <td>0.260</td>\n",
       "      <td>0.692</td>\n",
       "      <td>0.077</td>\n",
       "      <td>4.2</td>\n",
       "      <td>3.0</td>\n",
       "      <td>3.5</td>\n",
       "      <td>34.1</td>\n",
       "      <td>0.0</td>\n",
       "      <td>0.0</td>\n",
       "      <td>6.9</td>\n",
       "      <td>78.0</td>\n",
       "      <td>118.0</td>\n",
       "      <td>21.3</td>\n",
       "      <td>29.400000</td>\n",
       "      <td>2012-10-30</td>\n",
       "      <td>2013</td>\n",
       "      <td>False</td>\n",
       "      <td>1</td>\n",
       "      <td>2</td>\n",
       "      <td>True</td>\n",
       "      <td>-40.0</td>\n",
       "    </tr>\n",
       "    <tr>\n",
       "      <th>5</th>\n",
       "      <td>crawfjo02</td>\n",
       "      <td>Jordan Crawford</td>\n",
       "      <td>was</td>\n",
       "      <td>201210300CLE</td>\n",
       "      <td>28:42</td>\n",
       "      <td>11.0</td>\n",
       "      <td>4.0</td>\n",
       "      <td>13.0</td>\n",
       "      <td>0.308</td>\n",
       "      <td>0.0</td>\n",
       "      <td>6.0</td>\n",
       "      <td>0.000</td>\n",
       "      <td>3.0</td>\n",
       "      <td>4.0</td>\n",
       "      <td>0.75</td>\n",
       "      <td>2.0</td>\n",
       "      <td>1.0</td>\n",
       "      <td>3.0</td>\n",
       "      <td>5.0</td>\n",
       "      <td>1.0</td>\n",
       "      <td>1.0</td>\n",
       "      <td>1.0</td>\n",
       "      <td>1.0</td>\n",
       "      <td>0.0</td>\n",
       "      <td>0.308</td>\n",
       "      <td>0.373</td>\n",
       "      <td>0.462</td>\n",
       "      <td>0.308</td>\n",
       "      <td>8.6</td>\n",
       "      <td>3.1</td>\n",
       "      <td>5.4</td>\n",
       "      <td>33.0</td>\n",
       "      <td>1.9</td>\n",
       "      <td>2.8</td>\n",
       "      <td>6.3</td>\n",
       "      <td>93.0</td>\n",
       "      <td>110.0</td>\n",
       "      <td>23.8</td>\n",
       "      <td>28.700000</td>\n",
       "      <td>2012-10-30</td>\n",
       "      <td>2013</td>\n",
       "      <td>False</td>\n",
       "      <td>1</td>\n",
       "      <td>2</td>\n",
       "      <td>True</td>\n",
       "      <td>-17.0</td>\n",
       "    </tr>\n",
       "    <tr>\n",
       "      <th>1</th>\n",
       "      <td>okafoem01</td>\n",
       "      <td>Emeka Okafor</td>\n",
       "      <td>was</td>\n",
       "      <td>201210300CLE</td>\n",
       "      <td>24:35</td>\n",
       "      <td>10.0</td>\n",
       "      <td>4.0</td>\n",
       "      <td>10.0</td>\n",
       "      <td>0.400</td>\n",
       "      <td>0.0</td>\n",
       "      <td>0.0</td>\n",
       "      <td>NaN</td>\n",
       "      <td>2.0</td>\n",
       "      <td>4.0</td>\n",
       "      <td>0.50</td>\n",
       "      <td>2.0</td>\n",
       "      <td>5.0</td>\n",
       "      <td>7.0</td>\n",
       "      <td>0.0</td>\n",
       "      <td>0.0</td>\n",
       "      <td>4.0</td>\n",
       "      <td>1.0</td>\n",
       "      <td>1.0</td>\n",
       "      <td>-5.0</td>\n",
       "      <td>0.400</td>\n",
       "      <td>0.425</td>\n",
       "      <td>0.000</td>\n",
       "      <td>0.400</td>\n",
       "      <td>10.0</td>\n",
       "      <td>18.1</td>\n",
       "      <td>14.7</td>\n",
       "      <td>0.0</td>\n",
       "      <td>0.0</td>\n",
       "      <td>13.2</td>\n",
       "      <td>7.8</td>\n",
       "      <td>95.0</td>\n",
       "      <td>110.0</td>\n",
       "      <td>22.5</td>\n",
       "      <td>24.583333</td>\n",
       "      <td>2012-10-30</td>\n",
       "      <td>2013</td>\n",
       "      <td>False</td>\n",
       "      <td>1</td>\n",
       "      <td>2</td>\n",
       "      <td>True</td>\n",
       "      <td>-15.0</td>\n",
       "    </tr>\n",
       "    <tr>\n",
       "      <th>2</th>\n",
       "      <td>arizatr01</td>\n",
       "      <td>Trevor Ariza</td>\n",
       "      <td>was</td>\n",
       "      <td>201210300CLE</td>\n",
       "      <td>24:35</td>\n",
       "      <td>9.0</td>\n",
       "      <td>3.0</td>\n",
       "      <td>8.0</td>\n",
       "      <td>0.375</td>\n",
       "      <td>2.0</td>\n",
       "      <td>4.0</td>\n",
       "      <td>0.500</td>\n",
       "      <td>1.0</td>\n",
       "      <td>2.0</td>\n",
       "      <td>0.50</td>\n",
       "      <td>2.0</td>\n",
       "      <td>1.0</td>\n",
       "      <td>3.0</td>\n",
       "      <td>4.0</td>\n",
       "      <td>3.0</td>\n",
       "      <td>2.0</td>\n",
       "      <td>0.0</td>\n",
       "      <td>0.0</td>\n",
       "      <td>-9.0</td>\n",
       "      <td>0.500</td>\n",
       "      <td>0.507</td>\n",
       "      <td>0.500</td>\n",
       "      <td>0.250</td>\n",
       "      <td>10.0</td>\n",
       "      <td>3.6</td>\n",
       "      <td>6.3</td>\n",
       "      <td>29.9</td>\n",
       "      <td>6.7</td>\n",
       "      <td>6.6</td>\n",
       "      <td>0.0</td>\n",
       "      <td>125.0</td>\n",
       "      <td>98.0</td>\n",
       "      <td>15.6</td>\n",
       "      <td>24.583333</td>\n",
       "      <td>2012-10-30</td>\n",
       "      <td>2013</td>\n",
       "      <td>False</td>\n",
       "      <td>1</td>\n",
       "      <td>2</td>\n",
       "      <td>True</td>\n",
       "      <td>27.0</td>\n",
       "    </tr>\n",
       "    <tr>\n",
       "      <th>6</th>\n",
       "      <td>webstma02</td>\n",
       "      <td>Martell Webster</td>\n",
       "      <td>was</td>\n",
       "      <td>201210300CLE</td>\n",
       "      <td>23:25</td>\n",
       "      <td>9.0</td>\n",
       "      <td>4.0</td>\n",
       "      <td>6.0</td>\n",
       "      <td>0.667</td>\n",
       "      <td>1.0</td>\n",
       "      <td>3.0</td>\n",
       "      <td>0.333</td>\n",
       "      <td>0.0</td>\n",
       "      <td>0.0</td>\n",
       "      <td>NaN</td>\n",
       "      <td>3.0</td>\n",
       "      <td>0.0</td>\n",
       "      <td>3.0</td>\n",
       "      <td>1.0</td>\n",
       "      <td>2.0</td>\n",
       "      <td>0.0</td>\n",
       "      <td>0.0</td>\n",
       "      <td>1.0</td>\n",
       "      <td>-1.0</td>\n",
       "      <td>0.750</td>\n",
       "      <td>0.750</td>\n",
       "      <td>0.500</td>\n",
       "      <td>0.000</td>\n",
       "      <td>15.8</td>\n",
       "      <td>0.0</td>\n",
       "      <td>6.6</td>\n",
       "      <td>8.6</td>\n",
       "      <td>4.7</td>\n",
       "      <td>0.0</td>\n",
       "      <td>0.0</td>\n",
       "      <td>149.0</td>\n",
       "      <td>102.0</td>\n",
       "      <td>11.1</td>\n",
       "      <td>23.416667</td>\n",
       "      <td>2012-10-30</td>\n",
       "      <td>2013</td>\n",
       "      <td>False</td>\n",
       "      <td>1</td>\n",
       "      <td>2</td>\n",
       "      <td>True</td>\n",
       "      <td>47.0</td>\n",
       "    </tr>\n",
       "  </tbody>\n",
       "</table>\n",
       "</div>"
      ],
      "text/plain": [
       "   player_id           player team            gm     mp   pts   fg   fga  fg_pct  fg3  fg3a  fg3_pct   ft  fta  ft_pct  drb  orb  trb  ast  stl  blk  tov   pf  plus_minus  efg_pct  ts_pct   fg3r    ftr  drb_pct  orb_pct  trb_pct  ast_pct  stl_pct  blk_pct  tov_pct  off_rtg  def_rtg  usg_pct     mp_dec          dt  season is_home  game_num  next_game_num reg_season  net_rtg\n",
       "0  priceaj01       A.J. Price  was  201210300CLE  29:24   7.0  2.0  13.0   0.154  2.0   9.0    0.222  1.0  1.0    1.00  1.0  1.0  2.0  6.0  0.0  0.0  1.0  1.0       -11.0    0.231   0.260  0.692  0.077      4.2      3.0      3.5     34.1      0.0      0.0      6.9     78.0    118.0     21.3  29.400000  2012-10-30    2013   False         1              2       True    -40.0\n",
       "5  crawfjo02  Jordan Crawford  was  201210300CLE  28:42  11.0  4.0  13.0   0.308  0.0   6.0    0.000  3.0  4.0    0.75  2.0  1.0  3.0  5.0  1.0  1.0  1.0  1.0         0.0    0.308   0.373  0.462  0.308      8.6      3.1      5.4     33.0      1.9      2.8      6.3     93.0    110.0     23.8  28.700000  2012-10-30    2013   False         1              2       True    -17.0\n",
       "1  okafoem01     Emeka Okafor  was  201210300CLE  24:35  10.0  4.0  10.0   0.400  0.0   0.0      NaN  2.0  4.0    0.50  2.0  5.0  7.0  0.0  0.0  4.0  1.0  1.0        -5.0    0.400   0.425  0.000  0.400     10.0     18.1     14.7      0.0      0.0     13.2      7.8     95.0    110.0     22.5  24.583333  2012-10-30    2013   False         1              2       True    -15.0\n",
       "2  arizatr01     Trevor Ariza  was  201210300CLE  24:35   9.0  3.0   8.0   0.375  2.0   4.0    0.500  1.0  2.0    0.50  2.0  1.0  3.0  4.0  3.0  2.0  0.0  0.0        -9.0    0.500   0.507  0.500  0.250     10.0      3.6      6.3     29.9      6.7      6.6      0.0    125.0     98.0     15.6  24.583333  2012-10-30    2013   False         1              2       True     27.0\n",
       "6  webstma02  Martell Webster  was  201210300CLE  23:25   9.0  4.0   6.0   0.667  1.0   3.0    0.333  0.0  0.0     NaN  3.0  0.0  3.0  1.0  2.0  0.0  0.0  1.0        -1.0    0.750   0.750  0.500  0.000     15.8      0.0      6.6      8.6      4.7      0.0      0.0    149.0    102.0     11.1  23.416667  2012-10-30    2013   False         1              2       True     47.0"
      ]
     },
     "execution_count": 250,
     "metadata": {},
     "output_type": "execute_result"
    }
   ],
   "source": [
    "boxes.head(5)"
   ]
  },
  {
   "cell_type": "code",
   "execution_count": 291,
   "metadata": {
    "collapsed": false
   },
   "outputs": [],
   "source": [
    "box_var = boxes.groupby(['player_id', 'player'])[['mp_dec', 'pts', 'off_rtg', 'def_rtg', 'net_rtg', 'plus_minus']].var().reset_index()"
   ]
  },
  {
   "cell_type": "code",
   "execution_count": 286,
   "metadata": {
    "collapsed": false
   },
   "outputs": [
    {
     "data": {
      "text/html": [
       "<div>\n",
       "<table border=\"1\" class=\"dataframe\">\n",
       "  <thead>\n",
       "    <tr style=\"text-align: right;\">\n",
       "      <th></th>\n",
       "      <th>player_id</th>\n",
       "      <th>player</th>\n",
       "      <th>plus_minus</th>\n",
       "    </tr>\n",
       "  </thead>\n",
       "  <tbody>\n",
       "    <tr>\n",
       "      <th>163</th>\n",
       "      <td>curryst01</td>\n",
       "      <td>Stephen Curry</td>\n",
       "      <td>4172.0</td>\n",
       "    </tr>\n",
       "    <tr>\n",
       "      <th>368</th>\n",
       "      <td>jamesle01</td>\n",
       "      <td>LeBron James</td>\n",
       "      <td>3444.0</td>\n",
       "    </tr>\n",
       "    <tr>\n",
       "      <th>728</th>\n",
       "      <td>thompkl01</td>\n",
       "      <td>Klay Thompson</td>\n",
       "      <td>3443.0</td>\n",
       "    </tr>\n",
       "    <tr>\n",
       "      <th>277</th>\n",
       "      <td>greendr01</td>\n",
       "      <td>Draymond Green</td>\n",
       "      <td>3375.0</td>\n",
       "    </tr>\n",
       "    <tr>\n",
       "      <th>205</th>\n",
       "      <td>duranke01</td>\n",
       "      <td>Kevin Durant</td>\n",
       "      <td>3050.0</td>\n",
       "    </tr>\n",
       "  </tbody>\n",
       "</table>\n",
       "</div>"
      ],
      "text/plain": [
       "     player_id          player  plus_minus\n",
       "163  curryst01   Stephen Curry      4172.0\n",
       "368  jamesle01    LeBron James      3444.0\n",
       "728  thompkl01   Klay Thompson      3443.0\n",
       "277  greendr01  Draymond Green      3375.0\n",
       "205  duranke01    Kevin Durant      3050.0"
      ]
     },
     "execution_count": 286,
     "metadata": {},
     "output_type": "execute_result"
    }
   ],
   "source": [
    "cum_pm.head()"
   ]
  },
  {
   "cell_type": "markdown",
   "metadata": {},
   "source": [
    "# box_var[box_var.player.isin(cum_pm.head(10).player)].sort_values('plus_minus', ascending = True).head(10)"
   ]
  },
  {
   "cell_type": "code",
   "execution_count": 229,
   "metadata": {
    "collapsed": true
   },
   "outputs": [],
   "source": [
    "g2g = boxes[boxes.reg_season].merge(boxes[boxes.reg_season], \n",
    "                                    how = 'inner', \n",
    "                                    left_on = ['player_id', 'player', 'team', 'next_game_num'], \n",
    "                                    right_on = ['player_id', 'player', 'team', 'game_num'],\n",
    "                                    suffixes = ['', '_next'])"
   ]
  },
  {
   "cell_type": "code",
   "execution_count": 239,
   "metadata": {
    "collapsed": false
   },
   "outputs": [
    {
     "data": {
      "text/plain": [
       "<matplotlib.axes._subplots.AxesSubplot at 0x118334a10>"
      ]
     },
     "execution_count": 239,
     "metadata": {},
     "output_type": "execute_result"
    },
    {
     "data": {
      "image/png": "[encoded data removed]",
      "text/plain": [
       "<matplotlib.figure.Figure at 0x1183fba50>"
      ]
     },
     "metadata": {},
     "output_type": "display_data"
    }
   ],
   "source": [
    "# ~20 min / game as threshold for inclusion in summary stats\n",
    "boxes[boxes.mp_dec > 0].mp_dec.hist(bins = 20)"
   ]
  },
  {
   "cell_type": "code",
   "execution_count": 243,
   "metadata": {
    "collapsed": false
   },
   "outputs": [
    {
     "data": {
      "text/html": [
       "<div>\n",
       "<table border=\"1\" class=\"dataframe\">\n",
       "  <thead>\n",
       "    <tr style=\"text-align: right;\">\n",
       "      <th></th>\n",
       "      <th>player_id</th>\n",
       "      <th>player</th>\n",
       "      <th>team</th>\n",
       "      <th>gm</th>\n",
       "      <th>mp</th>\n",
       "    </tr>\n",
       "  </thead>\n",
       "  <tbody>\n",
       "    <tr>\n",
       "      <th>0</th>\n",
       "      <td>priceaj01</td>\n",
       "      <td>A.J. Price</td>\n",
       "      <td>was</td>\n",
       "      <td>201210300CLE</td>\n",
       "      <td>29:24</td>\n",
       "    </tr>\n",
       "    <tr>\n",
       "      <th>5</th>\n",
       "      <td>crawfjo02</td>\n",
       "      <td>Jordan Crawford</td>\n",
       "      <td>was</td>\n",
       "      <td>201210300CLE</td>\n",
       "      <td>28:42</td>\n",
       "    </tr>\n",
       "    <tr>\n",
       "      <th>1</th>\n",
       "      <td>okafoem01</td>\n",
       "      <td>Emeka Okafor</td>\n",
       "      <td>was</td>\n",
       "      <td>201210300CLE</td>\n",
       "      <td>24:35</td>\n",
       "    </tr>\n",
       "    <tr>\n",
       "      <th>2</th>\n",
       "      <td>arizatr01</td>\n",
       "      <td>Trevor Ariza</td>\n",
       "      <td>was</td>\n",
       "      <td>201210300CLE</td>\n",
       "      <td>24:35</td>\n",
       "    </tr>\n",
       "    <tr>\n",
       "      <th>6</th>\n",
       "      <td>webstma02</td>\n",
       "      <td>Martell Webster</td>\n",
       "      <td>was</td>\n",
       "      <td>201210300CLE</td>\n",
       "      <td>23:25</td>\n",
       "    </tr>\n",
       "  </tbody>\n",
       "</table>\n",
       "</div>"
      ],
      "text/plain": [
       "   player_id           player team            gm     mp\n",
       "0  priceaj01       A.J. Price  was  201210300CLE  29:24\n",
       "5  crawfjo02  Jordan Crawford  was  201210300CLE  28:42\n",
       "1  okafoem01     Emeka Okafor  was  201210300CLE  24:35\n",
       "2  arizatr01     Trevor Ariza  was  201210300CLE  24:35\n",
       "6  webstma02  Martell Webster  was  201210300CLE  23:25"
      ]
     },
     "execution_count": 243,
     "metadata": {},
     "output_type": "execute_result"
    }
   ],
   "source": [
    "boxes.head().T.head().T"
   ]
  },
  {
   "cell_type": "code",
   "execution_count": null,
   "metadata": {
    "collapsed": true
   },
   "outputs": [],
   "source": []
  },
  {
   "cell_type": "code",
   "execution_count": 251,
   "metadata": {
    "collapsed": true
   },
   "outputs": [],
   "source": [
    "cum_pm = boxes.groupby(['player_id', 'player']).plus_minus.sum().reset_index()\n",
    "cum_pm.sort_values('plus_minus', ascending = False, inplace = True)\n",
    "\n",
    "# net rating not as meaningful... lots of low min bigs\n",
    "# cum_nr = boxes.groupby(['player_id', 'player']).net_rtg.sum().reset_index()\n",
    "# cum_nr.sort_values('net_rtg', ascending = False, inplace = True)"
   ]
  },
  {
   "cell_type": "code",
   "execution_count": 258,
   "metadata": {
    "collapsed": false
   },
   "outputs": [
    {
     "data": {
      "text/html": [
       "<div>\n",
       "<table border=\"1\" class=\"dataframe\">\n",
       "  <thead>\n",
       "    <tr style=\"text-align: right;\">\n",
       "      <th></th>\n",
       "      <th>player_id</th>\n",
       "      <th>player</th>\n",
       "      <th>plus_minus</th>\n",
       "    </tr>\n",
       "  </thead>\n",
       "  <tbody>\n",
       "    <tr>\n",
       "      <th>163</th>\n",
       "      <td>curryst01</td>\n",
       "      <td>Stephen Curry</td>\n",
       "      <td>4172.0</td>\n",
       "    </tr>\n",
       "    <tr>\n",
       "      <th>368</th>\n",
       "      <td>jamesle01</td>\n",
       "      <td>LeBron James</td>\n",
       "      <td>3444.0</td>\n",
       "    </tr>\n",
       "    <tr>\n",
       "      <th>728</th>\n",
       "      <td>thompkl01</td>\n",
       "      <td>Klay Thompson</td>\n",
       "      <td>3443.0</td>\n",
       "    </tr>\n",
       "    <tr>\n",
       "      <th>277</th>\n",
       "      <td>greendr01</td>\n",
       "      <td>Draymond Green</td>\n",
       "      <td>3375.0</td>\n",
       "    </tr>\n",
       "    <tr>\n",
       "      <th>205</th>\n",
       "      <td>duranke01</td>\n",
       "      <td>Kevin Durant</td>\n",
       "      <td>3050.0</td>\n",
       "    </tr>\n",
       "    <tr>\n",
       "      <th>587</th>\n",
       "      <td>paulch01</td>\n",
       "      <td>Chris Paul</td>\n",
       "      <td>2927.0</td>\n",
       "    </tr>\n",
       "    <tr>\n",
       "      <th>444</th>\n",
       "      <td>leonaka01</td>\n",
       "      <td>Kawhi Leonard</td>\n",
       "      <td>2693.0</td>\n",
       "    </tr>\n",
       "    <tr>\n",
       "      <th>354</th>\n",
       "      <td>iguodan01</td>\n",
       "      <td>Andre Iguodala</td>\n",
       "      <td>2560.0</td>\n",
       "    </tr>\n",
       "    <tr>\n",
       "      <th>407</th>\n",
       "      <td>jordade01</td>\n",
       "      <td>DeAndre Jordan</td>\n",
       "      <td>2273.0</td>\n",
       "    </tr>\n",
       "    <tr>\n",
       "      <th>283</th>\n",
       "      <td>griffbl01</td>\n",
       "      <td>Blake Griffin</td>\n",
       "      <td>2219.0</td>\n",
       "    </tr>\n",
       "  </tbody>\n",
       "</table>\n",
       "</div>"
      ],
      "text/plain": [
       "     player_id          player  plus_minus\n",
       "163  curryst01   Stephen Curry      4172.0\n",
       "368  jamesle01    LeBron James      3444.0\n",
       "728  thompkl01   Klay Thompson      3443.0\n",
       "277  greendr01  Draymond Green      3375.0\n",
       "205  duranke01    Kevin Durant      3050.0\n",
       "587   paulch01      Chris Paul      2927.0\n",
       "444  leonaka01   Kawhi Leonard      2693.0\n",
       "354  iguodan01  Andre Iguodala      2560.0\n",
       "407  jordade01  DeAndre Jordan      2273.0\n",
       "283  griffbl01   Blake Griffin      2219.0"
      ]
     },
     "execution_count": 258,
     "metadata": {},
     "output_type": "execute_result"
    }
   ],
   "source": [
    "cum_pm.head(10)"
   ]
  },
  {
   "cell_type": "code",
   "execution_count": 271,
   "metadata": {
    "collapsed": false
   },
   "outputs": [
    {
     "data": {
      "image/png": "[encoded data removed]",
      "text/plain": [
       "<matplotlib.figure.Figure at 0x11a26d250>"
      ]
     },
     "metadata": {},
     "output_type": "display_data"
    }
   ],
   "source": []
  },
  {
   "cell_type": "code",
   "execution_count": 276,
   "metadata": {
    "collapsed": false
   },
   "outputs": [
    {
     "data": {
      "image/png": "[encoded data removed]",
      "text/plain": [
       "<matplotlib.figure.Figure at 0x1225425d0>"
      ]
     },
     "metadata": {},
     "output_type": "display_data"
    }
   ],
   "source": [
    "fig, axes = plt.subplots(2, 4, figsize  = (24,8))\n",
    "for row, ax in zip(cum_pm.head(8).values, axes.flat):\n",
    "    pid = row[0]\n",
    "    name = row[1]\n",
    "    \n",
    "    ax.hist(g2g.loc[(g2g.mp_dec >= 20) & (g2g.mp_dec_next >= 20) & (g2g.player_id == pid), 'off_rtg'], alpha = .3)\n",
    "    ax.set_title(name)"
   ]
  },
  {
   "cell_type": "code",
   "execution_count": 277,
   "metadata": {
    "collapsed": false
   },
   "outputs": [
    {
     "data": {
      "image/png": "[encoded data removed]",
      "text/plain": [
       "<matplotlib.figure.Figure at 0x114cbc590>"
      ]
     },
     "metadata": {},
     "output_type": "display_data"
    }
   ],
   "source": [
    "fig, axes = plt.subplots(2, 4, figsize  = (24,8))\n",
    "for row, ax in zip(cum_pm.tail(8).values, axes.flat):\n",
    "    pid = row[0]\n",
    "    name = row[1]\n",
    "    \n",
    "    ax.hist(g2g.loc[(g2g.mp_dec >= 20) & (g2g.mp_dec_next >= 20) & (g2g.player_id == pid), 'off_rtg'], alpha = .3)\n",
    "    ax.set_title(name)"
   ]
  },
  {
   "cell_type": "code",
   "execution_count": 254,
   "metadata": {
    "collapsed": false,
    "scrolled": false
   },
   "outputs": [
    {
     "data": {
      "text/plain": [
       "<matplotlib.collections.PathCollection at 0x11715e250>"
      ]
     },
     "execution_count": 254,
     "metadata": {},
     "output_type": "execute_result"
    },
    {
     "data": {
      "image/png": "[encoded data removed]",
      "text/plain": [
       "<matplotlib.figure.Figure at 0x1177fb0d0>"
      ]
     },
     "metadata": {},
     "output_type": "display_data"
    }
   ],
   "source": [
    "dfsample = g2g[(g2g.mp_dec >= 20) & (g2g.mp_dec_next >= 20) & (g2g.player_id.isin(cum_pm.head(10).player_id))]\n",
    "plt.scatter(dfsample.off_rtg, dfsample.off_rtg_next, alpha = .2)"
   ]
  },
  {
   "cell_type": "code",
   "execution_count": 256,
   "metadata": {
    "collapsed": false
   },
   "outputs": [
    {
     "data": {
      "text/plain": [
       "array(['jamesle01', 'paulch01', 'griffbl01', 'jordade01', 'leonaka01',\n",
       "       'iguodan01', 'thompkl01', 'curryst01', 'greendr01', 'duranke01'], dtype=object)"
      ]
     },
     "execution_count": 256,
     "metadata": {},
     "output_type": "execute_result"
    }
   ],
   "source": [
    "for "
   ]
  },
  {
   "cell_type": "code",
   "execution_count": null,
   "metadata": {
    "collapsed": true
   },
   "outputs": [],
   "source": [
    "\n"
   ]
  },
  {
   "cell_type": "code",
   "execution_count": null,
   "metadata": {
    "collapsed": true
   },
   "outputs": [],
   "source": []
  },
  {
   "cell_type": "code",
   "execution_count": null,
   "metadata": {
    "collapsed": true
   },
   "outputs": [],
   "source": []
  },
  {
   "cell_type": "code",
   "execution_count": null,
   "metadata": {
    "collapsed": true
   },
   "outputs": [],
   "source": []
  },
  {
   "cell_type": "code",
   "execution_count": null,
   "metadata": {
    "collapsed": true
   },
   "outputs": [],
   "source": []
  },
  {
   "cell_type": "code",
   "execution_count": null,
   "metadata": {
    "collapsed": true
   },
   "outputs": [],
   "source": []
  },
  {
   "cell_type": "code",
   "execution_count": null,
   "metadata": {
    "collapsed": true
   },
   "outputs": [],
   "source": []
  },
  {
   "cell_type": "code",
   "execution_count": null,
   "metadata": {
    "collapsed": true
   },
   "outputs": [],
   "source": []
  },
  {
   "cell_type": "code",
   "execution_count": null,
   "metadata": {
    "collapsed": true
   },
   "outputs": [],
   "source": []
  }
 ],
 "metadata": {
  "anaconda-cloud": {},
  "kernelspec": {
   "display_name": "Python [default]",
   "language": "python",
   "name": "python2"
  },
  "language_info": {
   "codemirror_mode": {
    "name": "ipython",
    "version": 2
   },
   "file_extension": ".py",
   "mimetype": "text/x-python",
   "name": "python",
   "nbconvert_exporter": "python",
   "pygments_lexer": "ipython2",
   "version": "2.7.12"
  }
 },
 "nbformat": 4,
 "nbformat_minor": 1
}
